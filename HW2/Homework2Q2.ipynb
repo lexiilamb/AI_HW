{
  "nbformat": 4,
  "nbformat_minor": 0,
  "metadata": {
    "colab": {
      "name": "Homework2Q2.ipynb",
      "provenance": [],
      "collapsed_sections": [
        "l34GNy7tyNks",
        "XuWVQX3CySIC",
        "dmQ2siA7ywPx",
        "JC5iBT_0OCSl",
        "2zpnxENIWj4N",
        "MX2EqMuqOskz",
        "AiJTgqVR7Z3a",
        "OFD15laT7Z4W"
      ]
    },
    "kernelspec": {
      "name": "python3",
      "display_name": "Python 3"
    }
  },
  "cells": [
    {
      "cell_type": "markdown",
      "metadata": {
        "id": "rt44vyY1xW9b",
        "colab_type": "text"
      },
      "source": [
        "# MNIST fashion data set"
      ]
    },
    {
      "cell_type": "markdown",
      "metadata": {
        "id": "l34GNy7tyNks",
        "colab_type": "text"
      },
      "source": [
        "## MNIST fashion data set"
      ]
    },
    {
      "cell_type": "code",
      "metadata": {
        "id": "FSJyddqGexl5",
        "colab_type": "code",
        "colab": {}
      },
      "source": [
        "import matplotlib.pyplot as plt\n",
        "import numpy as np\n",
        "\n",
        "import tensorflow as tf\n",
        "from tensorflow import keras\n",
        "\n",
        "fashion_mnist = keras.datasets.fashion_mnist\n",
        "\n",
        "(train_images, train_labels), (test_images, test_labels) = fashion_mnist.load_data()"
      ],
      "execution_count": 0,
      "outputs": []
    },
    {
      "cell_type": "markdown",
      "metadata": {
        "id": "XuWVQX3CySIC",
        "colab_type": "text"
      },
      "source": [
        "## Exploring the format of the MNIST fashion data set"
      ]
    },
    {
      "cell_type": "code",
      "metadata": {
        "id": "HKyztEf4fkBg",
        "colab_type": "code",
        "outputId": "3e9071af-7b1d-4504-ba53-ad1d27299467",
        "colab": {
          "base_uri": "https://localhost:8080/",
          "height": 34
        }
      },
      "source": [
        "train_images.shape"
      ],
      "execution_count": 0,
      "outputs": [
        {
          "output_type": "execute_result",
          "data": {
            "text/plain": [
              "(60000, 28, 28)"
            ]
          },
          "metadata": {
            "tags": []
          },
          "execution_count": 3
        }
      ]
    },
    {
      "cell_type": "code",
      "metadata": {
        "id": "vA81OpzFyjyS",
        "colab_type": "code",
        "outputId": "56768589-eb3e-4e5a-be64-811ed1e8c081",
        "colab": {
          "base_uri": "https://localhost:8080/",
          "height": 34
        }
      },
      "source": [
        "len(train_images)"
      ],
      "execution_count": 0,
      "outputs": [
        {
          "output_type": "execute_result",
          "data": {
            "text/plain": [
              "60000"
            ]
          },
          "metadata": {
            "tags": []
          },
          "execution_count": 4
        }
      ]
    },
    {
      "cell_type": "code",
      "metadata": {
        "id": "w85BC1AXxwds",
        "colab_type": "code",
        "outputId": "9673e08b-fe2b-4ce0-98e9-fb8eee163e91",
        "colab": {
          "base_uri": "https://localhost:8080/",
          "height": 34
        }
      },
      "source": [
        "train_images.ndim"
      ],
      "execution_count": 0,
      "outputs": [
        {
          "output_type": "execute_result",
          "data": {
            "text/plain": [
              "3"
            ]
          },
          "metadata": {
            "tags": []
          },
          "execution_count": 5
        }
      ]
    },
    {
      "cell_type": "code",
      "metadata": {
        "id": "1sHFiZBFxnrB",
        "colab_type": "code",
        "outputId": "e261479d-e768-4871-980e-74b91776a6db",
        "colab": {
          "base_uri": "https://localhost:8080/",
          "height": 34
        }
      },
      "source": [
        "train_images.dtype"
      ],
      "execution_count": 0,
      "outputs": [
        {
          "output_type": "execute_result",
          "data": {
            "text/plain": [
              "dtype('uint8')"
            ]
          },
          "metadata": {
            "tags": []
          },
          "execution_count": 6
        }
      ]
    },
    {
      "cell_type": "code",
      "metadata": {
        "id": "euQWeEkpyCL5",
        "colab_type": "code",
        "outputId": "29bea2a6-15f2-4a9c-93b7-2061436e1da4",
        "colab": {
          "base_uri": "https://localhost:8080/",
          "height": 34
        }
      },
      "source": [
        "train_labels"
      ],
      "execution_count": 0,
      "outputs": [
        {
          "output_type": "execute_result",
          "data": {
            "text/plain": [
              "array([9, 0, 0, ..., 3, 0, 5], dtype=uint8)"
            ]
          },
          "metadata": {
            "tags": []
          },
          "execution_count": 7
        }
      ]
    },
    {
      "cell_type": "code",
      "metadata": {
        "id": "jqv0aUL-gGU_",
        "colab_type": "code",
        "outputId": "2ced1bcf-5c20-4f6e-90fc-a174d6fa60eb",
        "colab": {
          "base_uri": "https://localhost:8080/",
          "height": 34
        }
      },
      "source": [
        "len(train_labels)"
      ],
      "execution_count": 0,
      "outputs": [
        {
          "output_type": "execute_result",
          "data": {
            "text/plain": [
              "60000"
            ]
          },
          "metadata": {
            "tags": []
          },
          "execution_count": 8
        }
      ]
    },
    {
      "cell_type": "code",
      "metadata": {
        "id": "aa2r6ZRcO7XV",
        "colab_type": "code",
        "colab": {}
      },
      "source": [
        "class_names = ['T-shirt/top', 'Trouser', 'Pullover', 'Dress', 'Coat',\n",
        "               'Sandal', 'Shirt', 'Sneaker', 'Bag', 'Ankle boot']"
      ],
      "execution_count": 0,
      "outputs": []
    },
    {
      "cell_type": "markdown",
      "metadata": {
        "id": "dmQ2siA7ywPx",
        "colab_type": "text"
      },
      "source": [
        "## Displaying some MNIST fashion items"
      ]
    },
    {
      "cell_type": "code",
      "metadata": {
        "id": "1Gdt3obzgQaY",
        "colab_type": "code",
        "outputId": "16285eac-61ed-427e-8235-a919b32aab13",
        "colab": {
          "base_uri": "https://localhost:8080/",
          "height": 589
        }
      },
      "source": [
        "plt.figure(figsize=(10,10))\n",
        "indices = np.random.choice(np.arange(60000), size=25, replace=False)\n",
        "for i in range(25):\n",
        "    plt.subplot(5,5,i+1)\n",
        "    plt.xticks([])\n",
        "    plt.yticks([])\n",
        "    plt.grid(False)\n",
        "    plt.imshow(train_images[i], cmap=plt.cm.binary)\n",
        "    plt.xlabel(class_names[train_labels[i]])\n",
        "plt.show()"
      ],
      "execution_count": 0,
      "outputs": [
        {
          "output_type": "display_data",
          "data": {
            "image/png": "[encoded data removed]",
            "text/plain": [
              "<Figure size 720x720 with 25 Axes>"
            ]
          },
          "metadata": {
            "tags": []
          }
        }
      ]
    },
    {
      "cell_type": "markdown",
      "metadata": {
        "id": "Rcch4U30N53_",
        "colab_type": "text"
      },
      "source": [
        "The data must be preprocessed before training the network. If you inspect the first image in the training set, you will see that the pixel values fall in the range of 0 to 255:"
      ]
    },
    {
      "cell_type": "code",
      "metadata": {
        "id": "luvWbddTMtTX",
        "colab_type": "code",
        "outputId": "291fff6d-79e4-45ad-84ad-195def507270",
        "colab": {
          "base_uri": "https://localhost:8080/",
          "height": 265
        }
      },
      "source": [
        "plt.figure()\n",
        "plt.imshow(train_images[0])\n",
        "plt.colorbar()\n",
        "plt.grid(False)\n",
        "plt.show()"
      ],
      "execution_count": 0,
      "outputs": [
        {
          "output_type": "display_data",
          "data": {
            "image/png": "[encoded data removed]",
            "text/plain": [
              "<Figure size 432x288 with 2 Axes>"
            ]
          },
          "metadata": {
            "tags": []
          }
        }
      ]
    },
    {
      "cell_type": "markdown",
      "metadata": {
        "id": "JC5iBT_0OCSl",
        "colab_type": "text"
      },
      "source": [
        "## Prepare the data"
      ]
    },
    {
      "cell_type": "code",
      "metadata": {
        "id": "inugSPsZNytV",
        "colab_type": "code",
        "colab": {}
      },
      "source": [
        "train_images = train_images / 255.0\n",
        "test_images = test_images / 255.0"
      ],
      "execution_count": 0,
      "outputs": []
    },
    {
      "cell_type": "markdown",
      "metadata": {
        "id": "ckT8FF-D7H1v",
        "colab_type": "text"
      },
      "source": [
        "# 1 Underfit Model"
      ]
    },
    {
      "cell_type": "markdown",
      "metadata": {
        "id": "OA975wHjOJI-",
        "colab_type": "text"
      },
      "source": [
        "## Build the model"
      ]
    },
    {
      "cell_type": "code",
      "metadata": {
        "id": "ZX6SGTpMOIKN",
        "colab_type": "code",
        "outputId": "017ce362-1829-48a5-e857-60162c284729",
        "colab": {
          "base_uri": "https://localhost:8080/",
          "height": 790
        }
      },
      "source": [
        "# set up the layers\n",
        "\n",
        "model = keras.Sequential([\n",
        "    keras.layers.Flatten(input_shape=(28, 28)),\n",
        "    keras.layers.Dense(5, activation=tf.nn.relu),\n",
        "    keras.layers.Dense(10, activation=tf.nn.softmax)\n",
        "])\n",
        "\n",
        "# compile the model\n",
        "\n",
        "model.compile(optimizer='adam',\n",
        "             loss='sparse_categorical_crossentropy',\n",
        "             metrics=['accuracy'])\n",
        "\n",
        "# train the model\n",
        "epochs = 20\n",
        "history = model.fit(train_images, \n",
        "                      train_labels, \n",
        "                      epochs=epochs,  \n",
        "                      validation_data=(test_images, test_labels))"
      ],
      "execution_count": 0,
      "outputs": [
        {
          "output_type": "stream",
          "text": [
            "Train on 60000 samples, validate on 10000 samples\n",
            "Epoch 1/20\n",
            "60000/60000 [==============================] - 3s 56us/sample - loss: 2.0666 - acc: 0.2127 - val_loss: 1.7404 - val_acc: 0.2893\n",
            "Epoch 2/20\n",
            "60000/60000 [==============================] - 3s 54us/sample - loss: 1.6961 - acc: 0.2715 - val_loss: 1.6552 - val_acc: 0.2648\n",
            "Epoch 3/20\n",
            "60000/60000 [==============================] - 3s 56us/sample - loss: 1.6372 - acc: 0.2997 - val_loss: 1.6336 - val_acc: 0.2965\n",
            "Epoch 4/20\n",
            "60000/60000 [==============================] - 3s 56us/sample - loss: 1.6110 - acc: 0.3040 - val_loss: 1.5904 - val_acc: 0.3210\n",
            "Epoch 5/20\n",
            "60000/60000 [==============================] - 3s 56us/sample - loss: 1.6039 - acc: 0.3004 - val_loss: 1.5920 - val_acc: 0.3126\n",
            "Epoch 6/20\n",
            "60000/60000 [==============================] - 3s 57us/sample - loss: 1.5812 - acc: 0.3156 - val_loss: 1.5901 - val_acc: 0.3167\n",
            "Epoch 7/20\n",
            "60000/60000 [==============================] - 3s 57us/sample - loss: 1.5777 - acc: 0.3169 - val_loss: 1.5604 - val_acc: 0.3277\n",
            "Epoch 8/20\n",
            "60000/60000 [==============================] - 3s 58us/sample - loss: 1.5670 - acc: 0.3260 - val_loss: 1.5971 - val_acc: 0.3121\n",
            "Epoch 9/20\n",
            "60000/60000 [==============================] - 4s 58us/sample - loss: 1.5517 - acc: 0.3359 - val_loss: 1.5661 - val_acc: 0.3270\n",
            "Epoch 10/20\n",
            "60000/60000 [==============================] - 3s 57us/sample - loss: 1.5358 - acc: 0.3401 - val_loss: 1.5670 - val_acc: 0.3385\n",
            "Epoch 11/20\n",
            "60000/60000 [==============================] - 3s 56us/sample - loss: 1.5470 - acc: 0.3404 - val_loss: 1.5971 - val_acc: 0.3427\n",
            "Epoch 12/20\n",
            "60000/60000 [==============================] - 3s 57us/sample - loss: 1.5260 - acc: 0.3514 - val_loss: 1.5723 - val_acc: 0.3259\n",
            "Epoch 13/20\n",
            "60000/60000 [==============================] - 3s 57us/sample - loss: 1.5230 - acc: 0.3493 - val_loss: 1.5540 - val_acc: 0.3502\n",
            "Epoch 14/20\n",
            "60000/60000 [==============================] - 3s 57us/sample - loss: 1.5199 - acc: 0.3497 - val_loss: 1.5374 - val_acc: 0.3424\n",
            "Epoch 15/20\n",
            "60000/60000 [==============================] - 3s 58us/sample - loss: 1.5142 - acc: 0.3534 - val_loss: 1.5226 - val_acc: 0.3522\n",
            "Epoch 16/20\n",
            "60000/60000 [==============================] - 3s 56us/sample - loss: 1.5125 - acc: 0.3521 - val_loss: 1.5391 - val_acc: 0.3599\n",
            "Epoch 17/20\n",
            "60000/60000 [==============================] - 3s 57us/sample - loss: 1.5047 - acc: 0.3578 - val_loss: 1.5011 - val_acc: 0.3607\n",
            "Epoch 18/20\n",
            "60000/60000 [==============================] - 3s 57us/sample - loss: 1.4953 - acc: 0.3628 - val_loss: 1.4920 - val_acc: 0.3655\n",
            "Epoch 19/20\n",
            "60000/60000 [==============================] - 3s 57us/sample - loss: 1.4889 - acc: 0.3646 - val_loss: 1.5016 - val_acc: 0.3591\n",
            "Epoch 20/20\n",
            "60000/60000 [==============================] - 3s 57us/sample - loss: 1.4807 - acc: 0.3650 - val_loss: 1.5066 - val_acc: 0.3636\n"
          ],
          "name": "stdout"
        }
      ]
    },
    {
      "cell_type": "markdown",
      "metadata": {
        "id": "mORb9IwPP7oE",
        "colab_type": "text"
      },
      "source": [
        "## Evaluate accuracy"
      ]
    },
    {
      "cell_type": "code",
      "metadata": {
        "id": "rlKIF6ijOkiE",
        "colab_type": "code",
        "outputId": "2ddf9499-66af-40b8-aba3-bad6cfad19be",
        "colab": {
          "base_uri": "https://localhost:8080/",
          "height": 54
        }
      },
      "source": [
        "test_loss, test_acc = model.evaluate(test_images, test_labels)\n",
        "\n",
        "print('Test accuracy:', test_acc)"
      ],
      "execution_count": 0,
      "outputs": [
        {
          "output_type": "stream",
          "text": [
            "10000/10000 [==============================] - 0s 27us/sample - loss: 1.5066 - acc: 0.3636\n",
            "Test accuracy: 0.3636\n"
          ],
          "name": "stdout"
        }
      ]
    },
    {
      "cell_type": "markdown",
      "metadata": {
        "id": "GqbGdV6oXEyP",
        "colab_type": "text"
      },
      "source": [
        "## Training/test loss/accuracy during training"
      ]
    },
    {
      "cell_type": "code",
      "metadata": {
        "id": "3b5OCE5YTrEc",
        "colab_type": "code",
        "colab": {}
      },
      "source": [
        "history_dict = history.history\n",
        "loss_values = history_dict['loss']\n",
        "test_loss_values = history_dict['val_loss']\n",
        "epochs_range = range(1, epochs+1)"
      ],
      "execution_count": 0,
      "outputs": []
    },
    {
      "cell_type": "code",
      "metadata": {
        "id": "y98AOblYT3Pk",
        "colab_type": "code",
        "outputId": "237747c9-f389-46f2-9af9-3e845f0eee07",
        "colab": {
          "base_uri": "https://localhost:8080/",
          "height": 295
        }
      },
      "source": [
        "plt.plot(epochs_range, loss_values, 'bo', label='Training loss')\n",
        "plt.plot(epochs_range, test_loss_values, 'ro', label='Test loss')\n",
        "plt.title('Training and test loss')\n",
        "plt.xlabel('Epochs')\n",
        "plt.ylabel('Loss')\n",
        "plt.legend()\n",
        "plt.show()"
      ],
      "execution_count": 0,
      "outputs": [
        {
          "output_type": "display_data",
          "data": {
            "image/png": "[encoded data removed]",
            "text/plain": [
              "<Figure size 432x288 with 1 Axes>"
            ]
          },
          "metadata": {
            "tags": []
          }
        }
      ]
    },
    {
      "cell_type": "code",
      "metadata": {
        "id": "790AkDaTWuZU",
        "colab_type": "code",
        "colab": {}
      },
      "source": [
        "acc_values = history_dict['acc']\n",
        "test_acc_values = history_dict['val_acc']"
      ],
      "execution_count": 0,
      "outputs": []
    },
    {
      "cell_type": "code",
      "metadata": {
        "id": "7BkIfPQ4W39E",
        "colab_type": "code",
        "outputId": "a5355ba0-e4e4-4477-c1ad-200be1ce71b7",
        "colab": {
          "base_uri": "https://localhost:8080/",
          "height": 295
        }
      },
      "source": [
        "plt.plot(epochs_range, acc_values, 'bo', label='Training accuracy')\n",
        "plt.plot(epochs_range, test_acc_values, 'ro', label='Test accuracy')\n",
        "plt.title('Training and test accuracy')\n",
        "plt.xlabel('Epochs')\n",
        "plt.ylabel('Accuracy')\n",
        "plt.legend()\n",
        "plt.show()"
      ],
      "execution_count": 0,
      "outputs": [
        {
          "output_type": "display_data",
          "data": {
            "image/png": "[encoded data removed]",
            "text/plain": [
              "<Figure size 432x288 with 1 Axes>"
            ]
          },
          "metadata": {
            "tags": []
          }
        }
      ]
    },
    {
      "cell_type": "markdown",
      "metadata": {
        "id": "vTVWJfTJcveS",
        "colab_type": "text"
      },
      "source": [
        "The underfit model has very low accuracy that stays fairly consistent and does not improve much with each iteration."
      ]
    },
    {
      "cell_type": "markdown",
      "metadata": {
        "colab_type": "text",
        "id": "Jwqg7qCs7Z13"
      },
      "source": [
        "# 2 Overfit Model"
      ]
    },
    {
      "cell_type": "markdown",
      "metadata": {
        "colab_type": "text",
        "id": "YrHZ5cEk7Z2G"
      },
      "source": [
        "## Build the model"
      ]
    },
    {
      "cell_type": "code",
      "metadata": {
        "colab_type": "code",
        "outputId": "3bf7923e-7e1c-478f-e2a9-c73a74c8969d",
        "id": "rZqnREre7Z2Q",
        "colab": {
          "base_uri": "https://localhost:8080/",
          "height": 790
        }
      },
      "source": [
        "# set up the layers\n",
        "\n",
        "model = keras.Sequential([\n",
        "    keras.layers.Flatten(input_shape=(28, 28)),\n",
        "    keras.layers.Dense(512, activation=tf.nn.relu),\n",
        "    keras.layers.Dense(256, activation=tf.nn.relu),\n",
        "    keras.layers.Dense(128, activation=tf.nn.relu),\n",
        "    keras.layers.Dense(10, activation=tf.nn.softmax)\n",
        "])\n",
        "\n",
        "# compile the model\n",
        "\n",
        "model.compile(optimizer='adam',\n",
        "             loss='sparse_categorical_crossentropy',\n",
        "             metrics=['accuracy'])\n",
        "\n",
        "# train the model\n",
        "epochs = 20\n",
        "history = model.fit(train_images, \n",
        "                      train_labels, \n",
        "                      epochs=epochs,  \n",
        "                      validation_data=(test_images, test_labels))"
      ],
      "execution_count": 0,
      "outputs": [
        {
          "output_type": "stream",
          "text": [
            "Train on 60000 samples, validate on 10000 samples\n",
            "Epoch 1/20\n",
            "60000/60000 [==============================] - 13s 215us/sample - loss: 1.6999 - acc: 0.7832 - val_loss: 0.6040 - val_acc: 0.7935\n",
            "Epoch 2/20\n",
            "60000/60000 [==============================] - 13s 216us/sample - loss: 0.4724 - acc: 0.8322 - val_loss: 0.5135 - val_acc: 0.8190\n",
            "Epoch 3/20\n",
            "60000/60000 [==============================] - 13s 215us/sample - loss: 0.4274 - acc: 0.8483 - val_loss: 0.4573 - val_acc: 0.8384\n",
            "Epoch 4/20\n",
            "60000/60000 [==============================] - 13s 211us/sample - loss: 0.4038 - acc: 0.8554 - val_loss: 0.4786 - val_acc: 0.8194\n",
            "Epoch 5/20\n",
            "60000/60000 [==============================] - 13s 214us/sample - loss: 0.3773 - acc: 0.8658 - val_loss: 0.4806 - val_acc: 0.8334\n",
            "Epoch 6/20\n",
            "60000/60000 [==============================] - 13s 223us/sample - loss: 0.3556 - acc: 0.8722 - val_loss: 0.4190 - val_acc: 0.8562\n",
            "Epoch 7/20\n",
            "60000/60000 [==============================] - 13s 217us/sample - loss: 0.3502 - acc: 0.8758 - val_loss: 0.4095 - val_acc: 0.8626\n",
            "Epoch 8/20\n",
            "60000/60000 [==============================] - 13s 215us/sample - loss: 0.3402 - acc: 0.8798 - val_loss: 0.4256 - val_acc: 0.8547\n",
            "Epoch 9/20\n",
            "60000/60000 [==============================] - 13s 219us/sample - loss: 0.3266 - acc: 0.8825 - val_loss: 0.3812 - val_acc: 0.8712\n",
            "Epoch 10/20\n",
            "60000/60000 [==============================] - 13s 221us/sample - loss: 0.3142 - acc: 0.8871 - val_loss: 0.3798 - val_acc: 0.8737\n",
            "Epoch 11/20\n",
            "60000/60000 [==============================] - 13s 216us/sample - loss: 0.3115 - acc: 0.8882 - val_loss: 0.3901 - val_acc: 0.8676\n",
            "Epoch 12/20\n",
            "60000/60000 [==============================] - 14s 226us/sample - loss: 0.3029 - acc: 0.8924 - val_loss: 0.3964 - val_acc: 0.8716\n",
            "Epoch 13/20\n",
            "60000/60000 [==============================] - 14s 237us/sample - loss: 0.2999 - acc: 0.8919 - val_loss: 0.3754 - val_acc: 0.8766\n",
            "Epoch 14/20\n",
            "60000/60000 [==============================] - 14s 226us/sample - loss: 0.2912 - acc: 0.8964 - val_loss: 0.3780 - val_acc: 0.8725\n",
            "Epoch 15/20\n",
            "60000/60000 [==============================] - 14s 241us/sample - loss: 0.2907 - acc: 0.8960 - val_loss: 0.3821 - val_acc: 0.8722\n",
            "Epoch 16/20\n",
            "60000/60000 [==============================] - 14s 240us/sample - loss: 0.2868 - acc: 0.8984 - val_loss: 0.3929 - val_acc: 0.8802\n",
            "Epoch 17/20\n",
            "60000/60000 [==============================] - 14s 235us/sample - loss: 0.2837 - acc: 0.8985 - val_loss: 0.5060 - val_acc: 0.8637\n",
            "Epoch 18/20\n",
            "60000/60000 [==============================] - 14s 231us/sample - loss: 0.2853 - acc: 0.9006 - val_loss: 0.4310 - val_acc: 0.8681\n",
            "Epoch 19/20\n",
            "60000/60000 [==============================] - 13s 223us/sample - loss: 0.2786 - acc: 0.9009 - val_loss: 0.3842 - val_acc: 0.8789\n",
            "Epoch 20/20\n",
            "60000/60000 [==============================] - 14s 230us/sample - loss: 0.2694 - acc: 0.9037 - val_loss: 0.4290 - val_acc: 0.8692\n"
          ],
          "name": "stdout"
        }
      ]
    },
    {
      "cell_type": "markdown",
      "metadata": {
        "colab_type": "text",
        "id": "bJk1ju0C7Z2h"
      },
      "source": [
        "## Evaluate accuracy"
      ]
    },
    {
      "cell_type": "code",
      "metadata": {
        "colab_type": "code",
        "id": "rQ0IAKsP7Z2q",
        "outputId": "dbf0d050-5ca0-472d-9bbf-1fab84559509",
        "colab": {
          "base_uri": "https://localhost:8080/",
          "height": 54
        }
      },
      "source": [
        "test_loss, test_acc = model.evaluate(test_images, test_labels)\n",
        "\n",
        "print('Test accuracy:', test_acc)"
      ],
      "execution_count": 0,
      "outputs": [
        {
          "output_type": "stream",
          "text": [
            "10000/10000 [==============================] - 1s 74us/sample - loss: 0.4290 - acc: 0.8692\n",
            "Test accuracy: 0.8692\n"
          ],
          "name": "stdout"
        }
      ]
    },
    {
      "cell_type": "markdown",
      "metadata": {
        "colab_type": "text",
        "id": "-dlRM83G7Z22"
      },
      "source": [
        "It turns out, the accuracy on the test dataset is a little less than the accuracy on the training dataset. \n",
        "\n",
        "This gap between training accuracy and test accuracy is an example of **overfitting**. Overfitting is when a machine learning model performs worse on new data than on their training data.\n",
        "\n"
      ]
    },
    {
      "cell_type": "markdown",
      "metadata": {
        "colab_type": "text",
        "id": "PkHN4Of47Z25"
      },
      "source": [
        "## Training/test loss/accuracy during training"
      ]
    },
    {
      "cell_type": "code",
      "metadata": {
        "colab_type": "code",
        "id": "Vovyo2u17Z27",
        "colab": {}
      },
      "source": [
        "history_dict = history.history\n",
        "loss_values = history_dict['loss']\n",
        "test_loss_values = history_dict['val_loss']\n",
        "epochs_range = range(1, epochs+1)"
      ],
      "execution_count": 0,
      "outputs": []
    },
    {
      "cell_type": "code",
      "metadata": {
        "colab_type": "code",
        "id": "y29u2fm87Z3B",
        "outputId": "aae0e6cc-e790-4485-ab94-80d5e2c02fc0",
        "colab": {
          "base_uri": "https://localhost:8080/",
          "height": 295
        }
      },
      "source": [
        "plt.plot(epochs_range, loss_values, 'bo', label='Training loss')\n",
        "plt.plot(epochs_range, test_loss_values, 'ro', label='Test loss')\n",
        "plt.title('Training and test loss')\n",
        "plt.xlabel('Epochs')\n",
        "plt.ylabel('Loss')\n",
        "plt.legend()\n",
        "plt.show()"
      ],
      "execution_count": 0,
      "outputs": [
        {
          "output_type": "display_data",
          "data": {
            "image/png": "[encoded data removed]",
            "text/plain": [
              "<Figure size 432x288 with 1 Axes>"
            ]
          },
          "metadata": {
            "tags": []
          }
        }
      ]
    },
    {
      "cell_type": "code",
      "metadata": {
        "colab_type": "code",
        "id": "nbmnSUpy7Z3J",
        "colab": {}
      },
      "source": [
        "acc_values = history_dict['acc']\n",
        "test_acc_values = history_dict['val_acc']"
      ],
      "execution_count": 0,
      "outputs": []
    },
    {
      "cell_type": "code",
      "metadata": {
        "colab_type": "code",
        "id": "ECBuEv8w7Z3R",
        "outputId": "17cf452a-a16e-41a5-8cf4-82eabafdbc2a",
        "colab": {
          "base_uri": "https://localhost:8080/",
          "height": 295
        }
      },
      "source": [
        "plt.plot(epochs_range, acc_values, 'bo', label='Training accuracy')\n",
        "plt.plot(epochs_range, test_acc_values, 'ro', label='Test accuracy')\n",
        "plt.title('Training and test accuracy')\n",
        "plt.xlabel('Epochs')\n",
        "plt.ylabel('Accuracy')\n",
        "plt.legend()\n",
        "plt.show()"
      ],
      "execution_count": 0,
      "outputs": [
        {
          "output_type": "display_data",
          "data": {
            "image/png": "[encoded data removed]",
            "text/plain": [
              "<Figure size 432x288 with 1 Axes>"
            ]
          },
          "metadata": {
            "tags": []
          }
        }
      ]
    },
    {
      "cell_type": "markdown",
      "metadata": {
        "id": "_HRFuB7RcWOa",
        "colab_type": "text"
      },
      "source": [
        "This overfit model produces high accuracy for the training data and exceeds the testing data before the final iteration."
      ]
    },
    {
      "cell_type": "markdown",
      "metadata": {
        "colab_type": "text",
        "id": "5R5bWREJ7giJ"
      },
      "source": [
        "# 3 Pretty Good Model"
      ]
    },
    {
      "cell_type": "markdown",
      "metadata": {
        "colab_type": "text",
        "id": "ZfKixpq77gid"
      },
      "source": [
        "## Build the model"
      ]
    },
    {
      "cell_type": "code",
      "metadata": {
        "colab_type": "code",
        "id": "M95zg2XO7giw",
        "outputId": "52983ff4-e445-4609-c63e-694a701af776",
        "colab": {
          "base_uri": "https://localhost:8080/",
          "height": 790
        }
      },
      "source": [
        "# set up the layers\n",
        "\n",
        "model = keras.Sequential([\n",
        "    keras.layers.Flatten(input_shape=(28, 28)),\n",
        "    keras.layers.Dropout(0.2),\n",
        "    keras.layers.Dense(512, activation=tf.nn.relu),\n",
        "    keras.layers.Dense(256, activation=tf.nn.relu),\n",
        "    keras.layers.Dense(128, activation=tf.nn.relu),\n",
        "    keras.layers.Dense(10, activation=tf.nn.softmax)\n",
        "])\n",
        "\n",
        "# compile the model\n",
        "\n",
        "model.compile(optimizer='adam',\n",
        "             loss='sparse_categorical_crossentropy',\n",
        "             metrics=['accuracy'])\n",
        "\n",
        "# train the model\n",
        "epochs = 20\n",
        "history = model.fit(train_images, \n",
        "                      train_labels, \n",
        "                      epochs=epochs,  \n",
        "                      validation_data=(test_images, test_labels))"
      ],
      "execution_count": 0,
      "outputs": [
        {
          "output_type": "stream",
          "text": [
            "Train on 60000 samples, validate on 10000 samples\n",
            "Epoch 1/20\n",
            "60000/60000 [==============================] - 15s 247us/sample - loss: 1.9385 - acc: 0.7532 - val_loss: 0.5021 - val_acc: 0.8169\n",
            "Epoch 2/20\n",
            "60000/60000 [==============================] - 15s 253us/sample - loss: 0.5074 - acc: 0.8190 - val_loss: 0.4585 - val_acc: 0.8381\n",
            "Epoch 3/20\n",
            "60000/60000 [==============================] - 15s 242us/sample - loss: 0.4622 - acc: 0.8330 - val_loss: 0.4387 - val_acc: 0.8457\n",
            "Epoch 4/20\n",
            "60000/60000 [==============================] - 15s 249us/sample - loss: 0.4320 - acc: 0.8436 - val_loss: 0.4240 - val_acc: 0.8439\n",
            "Epoch 5/20\n",
            "60000/60000 [==============================] - 16s 262us/sample - loss: 0.4198 - acc: 0.8485 - val_loss: 0.4186 - val_acc: 0.8514\n",
            "Epoch 6/20\n",
            "60000/60000 [==============================] - 15s 251us/sample - loss: 0.4034 - acc: 0.8552 - val_loss: 0.4081 - val_acc: 0.8594\n",
            "Epoch 7/20\n",
            "60000/60000 [==============================] - 15s 251us/sample - loss: 0.3888 - acc: 0.8594 - val_loss: 0.3869 - val_acc: 0.8623\n",
            "Epoch 8/20\n",
            "60000/60000 [==============================] - 14s 234us/sample - loss: 0.3810 - acc: 0.8646 - val_loss: 0.4127 - val_acc: 0.8544\n",
            "Epoch 9/20\n",
            "60000/60000 [==============================] - 14s 241us/sample - loss: 0.3715 - acc: 0.8679 - val_loss: 0.3812 - val_acc: 0.8653\n",
            "Epoch 10/20\n",
            "60000/60000 [==============================] - 15s 245us/sample - loss: 0.3618 - acc: 0.8710 - val_loss: 0.3665 - val_acc: 0.8723\n",
            "Epoch 11/20\n",
            "60000/60000 [==============================] - 15s 242us/sample - loss: 0.3543 - acc: 0.8731 - val_loss: 0.3742 - val_acc: 0.8706\n",
            "Epoch 12/20\n",
            "60000/60000 [==============================] - 15s 249us/sample - loss: 0.3474 - acc: 0.8761 - val_loss: 0.3833 - val_acc: 0.8700\n",
            "Epoch 13/20\n",
            "60000/60000 [==============================] - 14s 238us/sample - loss: 0.3422 - acc: 0.8779 - val_loss: 0.3762 - val_acc: 0.8724\n",
            "Epoch 14/20\n",
            "60000/60000 [==============================] - 15s 249us/sample - loss: 0.3407 - acc: 0.8783 - val_loss: 0.4089 - val_acc: 0.8596\n",
            "Epoch 15/20\n",
            "60000/60000 [==============================] - 15s 242us/sample - loss: 0.3398 - acc: 0.8777 - val_loss: 0.3676 - val_acc: 0.8686\n",
            "Epoch 16/20\n",
            "60000/60000 [==============================] - 15s 249us/sample - loss: 0.3348 - acc: 0.8795 - val_loss: 0.3627 - val_acc: 0.8785\n",
            "Epoch 17/20\n",
            "60000/60000 [==============================] - 14s 239us/sample - loss: 0.3327 - acc: 0.8803 - val_loss: 0.3572 - val_acc: 0.8804\n",
            "Epoch 18/20\n",
            "60000/60000 [==============================] - 14s 242us/sample - loss: 0.3312 - acc: 0.8823 - val_loss: 0.3773 - val_acc: 0.8669\n",
            "Epoch 19/20\n",
            "60000/60000 [==============================] - 15s 243us/sample - loss: 0.3267 - acc: 0.8831 - val_loss: 0.3926 - val_acc: 0.8700\n",
            "Epoch 20/20\n",
            "60000/60000 [==============================] - 14s 241us/sample - loss: 0.3211 - acc: 0.8844 - val_loss: 0.3835 - val_acc: 0.8675\n"
          ],
          "name": "stdout"
        }
      ]
    },
    {
      "cell_type": "markdown",
      "metadata": {
        "colab_type": "text",
        "id": "KFrPRcri7gjJ"
      },
      "source": [
        "## Evaluate accuracy"
      ]
    },
    {
      "cell_type": "code",
      "metadata": {
        "colab_type": "code",
        "id": "fXec6wf77gjV",
        "outputId": "ff6f7804-af27-48d6-8fed-e81b68afe32c",
        "colab": {
          "base_uri": "https://localhost:8080/",
          "height": 54
        }
      },
      "source": [
        "test_loss, test_acc = model.evaluate(test_images, test_labels)\n",
        "\n",
        "print('Test accuracy:', test_acc)"
      ],
      "execution_count": 0,
      "outputs": [
        {
          "output_type": "stream",
          "text": [
            "10000/10000 [==============================] - 1s 73us/sample - loss: 0.3835 - acc: 0.8675\n",
            "Test accuracy: 0.8675\n"
          ],
          "name": "stdout"
        }
      ]
    },
    {
      "cell_type": "markdown",
      "metadata": {
        "colab_type": "text",
        "id": "xpnvAyRY7gjn"
      },
      "source": [
        "## Training/test loss/accuracy during training"
      ]
    },
    {
      "cell_type": "code",
      "metadata": {
        "colab_type": "code",
        "id": "LlcEeIBf7gjs",
        "colab": {}
      },
      "source": [
        "history_dict = history.history\n",
        "loss_values = history_dict['loss']\n",
        "test_loss_values = history_dict['val_loss']\n",
        "epochs_range = range(1, epochs+1)"
      ],
      "execution_count": 0,
      "outputs": []
    },
    {
      "cell_type": "code",
      "metadata": {
        "colab_type": "code",
        "id": "xvsANnXy7gj6",
        "outputId": "fd008917-f122-4784-d858-bea2f1c825a4",
        "colab": {
          "base_uri": "https://localhost:8080/",
          "height": 295
        }
      },
      "source": [
        "plt.plot(epochs_range, loss_values, 'bo', label='Training loss')\n",
        "plt.plot(epochs_range, test_loss_values, 'ro', label='Test loss')\n",
        "plt.title('Training and test loss')\n",
        "plt.xlabel('Epochs')\n",
        "plt.ylabel('Loss')\n",
        "plt.legend()\n",
        "plt.show()"
      ],
      "execution_count": 0,
      "outputs": [
        {
          "output_type": "display_data",
          "data": {
            "image/png": "[encoded data removed]",
            "text/plain": [
              "<Figure size 432x288 with 1 Axes>"
            ]
          },
          "metadata": {
            "tags": []
          }
        }
      ]
    },
    {
      "cell_type": "code",
      "metadata": {
        "colab_type": "code",
        "id": "NKoFpZ8I7gkF",
        "colab": {}
      },
      "source": [
        "acc_values = history_dict['acc']\n",
        "test_acc_values = history_dict['val_acc']"
      ],
      "execution_count": 0,
      "outputs": []
    },
    {
      "cell_type": "code",
      "metadata": {
        "colab_type": "code",
        "id": "X8KhTtjl7gkS",
        "outputId": "1c045b48-b785-492b-b96b-3ecd2a782d53",
        "colab": {
          "base_uri": "https://localhost:8080/",
          "height": 295
        }
      },
      "source": [
        "plt.plot(epochs_range, acc_values, 'bo', label='Training accuracy')\n",
        "plt.plot(epochs_range, test_acc_values, 'ro', label='Test accuracy')\n",
        "plt.title('Training and test accuracy')\n",
        "plt.xlabel('Epochs')\n",
        "plt.ylabel('Accuracy')\n",
        "plt.legend()\n",
        "plt.show()"
      ],
      "execution_count": 0,
      "outputs": [
        {
          "output_type": "display_data",
          "data": {
            "image/png": "[encoded data removed]",
            "text/plain": [
              "<Figure size 432x288 with 1 Axes>"
            ]
          },
          "metadata": {
            "tags": []
          }
        }
      ]
    },
    {
      "cell_type": "markdown",
      "metadata": {
        "id": "0MTXDWsugSTR",
        "colab_type": "text"
      },
      "source": [
        "To create a pretty good model, the overfit model was used as a base in combination with a dropout.\n",
        "\n",
        "Despite the close resemblance to the overfit model, the pretty good model has a smaller gap between the testing and training accuracies which implies less overfitting."
      ]
    }
  ]
}