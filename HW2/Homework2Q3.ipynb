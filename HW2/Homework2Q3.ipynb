{
  "nbformat": 4,
  "nbformat_minor": 0,
  "metadata": {
    "colab": {
      "name": "Homework2Q3.ipynb",
      "provenance": [],
      "collapsed_sections": [
        "mNqKXUfGkpok"
      ]
    },
    "kernelspec": {
      "name": "python3",
      "display_name": "Python 3"
    },
    "accelerator": "GPU"
  },
  "cells": [
    {
      "cell_type": "markdown",
      "metadata": {
        "id": "7Bd8ag8qKAMm",
        "colab_type": "text"
      },
      "source": [
        "# Homework 2 Question 3"
      ]
    },
    {
      "cell_type": "markdown",
      "metadata": {
        "id": "jlejCbM2yYVD",
        "colab_type": "text"
      },
      "source": [
        "# Imports"
      ]
    },
    {
      "cell_type": "code",
      "metadata": {
        "id": "FjMwjS-AQS22",
        "colab_type": "code",
        "colab": {}
      },
      "source": [
        "import numpy as np\n",
        "import matplotlib.pyplot as plt\n",
        "import tensorflow as tf\n",
        "from tensorflow import keras\n",
        "from keras import layers\n",
        "from keras import models\n",
        "from keras import optimizers\n",
        "from keras import utils\n",
        "from keras.datasets import cifar10\n",
        "from keras.layers.convolutional import Conv2D\n",
        "\n",
        "(train_images, train_labels), (test_images, test_labels) = cifar10.load_data()"
      ],
      "execution_count": 0,
      "outputs": []
    },
    {
      "cell_type": "code",
      "metadata": {
        "id": "nZPxnHkD5f2D",
        "colab_type": "code",
        "colab": {}
      },
      "source": [
        "class_names = ['airplan', 'automobile', 'bird', 'cat', 'deer', 'dog', 'frog', 'horse', 'ship', 'truck']"
      ],
      "execution_count": 0,
      "outputs": []
    },
    {
      "cell_type": "markdown",
      "metadata": {
        "id": "BnzxINBtKJKb",
        "colab_type": "text"
      },
      "source": [
        "## Prepare the data"
      ]
    },
    {
      "cell_type": "code",
      "metadata": {
        "id": "UN8Xq0S65q73",
        "colab_type": "code",
        "colab": {}
      },
      "source": [
        "train_images = train_images / 255.0\n",
        "test_images = test_images / 255.0\n",
        "\n",
        "num_classes = 10\n",
        "train_labels = keras.utils.to_categorical(train_labels, num_classes)\n",
        "test_labels = keras.utils.to_categorical(test_labels, num_classes)"
      ],
      "execution_count": 0,
      "outputs": []
    },
    {
      "cell_type": "markdown",
      "metadata": {
        "colab_type": "text",
        "id": "DO_r7miFuqjL"
      },
      "source": [
        "## Underfit model"
      ]
    },
    {
      "cell_type": "markdown",
      "metadata": {
        "id": "jKAwKQnoKUFt",
        "colab_type": "text"
      },
      "source": [
        "### Build the model"
      ]
    },
    {
      "cell_type": "code",
      "metadata": {
        "colab_type": "code",
        "id": "Og9vjoWkuqjM",
        "outputId": "6b98cb53-a515-41b3-ddc1-9d689071f26d",
        "colab": {
          "base_uri": "https://localhost:8080/",
          "height": 55
        }
      },
      "source": [
        "model = models.Sequential()\n",
        "model.add(layers.Conv2D(2, (3,3), activation='relu', input_shape=(32, 32, 3)))\n",
        "model.add(layers.Dropout(.9))\n",
        "model.add(layers.Flatten())\n",
        "model.add(layers.Dense(10, activation=tf.nn.softmax))"
      ],
      "execution_count": 0,
      "outputs": [
        {
          "output_type": "stream",
          "text": [
            "WARNING:tensorflow:Large dropout rate: 0.9 (>0.5). In TensorFlow 2.x, dropout() uses dropout rate instead of keep_prob. Please ensure that this is intended.\n"
          ],
          "name": "stdout"
        }
      ]
    },
    {
      "cell_type": "code",
      "metadata": {
        "id": "Gk3iSDqSKjdg",
        "colab_type": "code",
        "outputId": "8696eb29-b767-4d09-81f2-066fc08ff9c9",
        "colab": {
          "base_uri": "https://localhost:8080/",
          "height": 790
        }
      },
      "source": [
        "model.compile(optimizer=optimizers.RMSprop(lr=1e-4),\n",
        "             loss='binary_crossentropy',\n",
        "             metrics=['accuracy'])\n",
        "\n",
        "epochs = 20\n",
        "history = model.fit(train_images, \n",
        "                      train_labels, \n",
        "                      epochs=epochs,  \n",
        "                      validation_data=(test_images, test_labels))"
      ],
      "execution_count": 0,
      "outputs": [
        {
          "output_type": "stream",
          "text": [
            "Train on 50000 samples, validate on 10000 samples\n",
            "Epoch 1/20\n",
            "50000/50000 [==============================] - 8s 159us/step - loss: 0.3248 - acc: 0.9000 - val_loss: 0.3227 - val_acc: 0.9000\n",
            "Epoch 2/20\n",
            "50000/50000 [==============================] - 7s 147us/step - loss: 0.3222 - acc: 0.8996 - val_loss: 0.3186 - val_acc: 0.8997\n",
            "Epoch 3/20\n",
            "50000/50000 [==============================] - 7s 144us/step - loss: 0.3198 - acc: 0.8996 - val_loss: 0.3161 - val_acc: 0.8997\n",
            "Epoch 4/20\n",
            "50000/50000 [==============================] - 7s 147us/step - loss: 0.3178 - acc: 0.8996 - val_loss: 0.3141 - val_acc: 0.8998\n",
            "Epoch 5/20\n",
            "50000/50000 [==============================] - 7s 149us/step - loss: 0.3155 - acc: 0.8997 - val_loss: 0.3116 - val_acc: 0.8998\n",
            "Epoch 6/20\n",
            "50000/50000 [==============================] - 7s 147us/step - loss: 0.3133 - acc: 0.8997 - val_loss: 0.3095 - val_acc: 0.8998\n",
            "Epoch 7/20\n",
            "50000/50000 [==============================] - 7s 145us/step - loss: 0.3114 - acc: 0.8998 - val_loss: 0.3074 - val_acc: 0.8999\n",
            "Epoch 8/20\n",
            "50000/50000 [==============================] - 7s 143us/step - loss: 0.3072 - acc: 0.8998 - val_loss: 0.2935 - val_acc: 0.8997\n",
            "Epoch 9/20\n",
            "50000/50000 [==============================] - 7s 144us/step - loss: 0.2970 - acc: 0.8995 - val_loss: 0.2869 - val_acc: 0.8995\n",
            "Epoch 10/20\n",
            "50000/50000 [==============================] - 7s 146us/step - loss: 0.2920 - acc: 0.8997 - val_loss: 0.2831 - val_acc: 0.8998\n",
            "Epoch 11/20\n",
            "50000/50000 [==============================] - 7s 144us/step - loss: 0.2892 - acc: 0.9000 - val_loss: 0.2793 - val_acc: 0.9003\n",
            "Epoch 12/20\n",
            "50000/50000 [==============================] - 7s 145us/step - loss: 0.2867 - acc: 0.9003 - val_loss: 0.2778 - val_acc: 0.9005\n",
            "Epoch 13/20\n",
            "50000/50000 [==============================] - 7s 146us/step - loss: 0.2846 - acc: 0.9006 - val_loss: 0.2743 - val_acc: 0.9007\n",
            "Epoch 14/20\n",
            "50000/50000 [==============================] - 7s 142us/step - loss: 0.2829 - acc: 0.9006 - val_loss: 0.2729 - val_acc: 0.9008\n",
            "Epoch 15/20\n",
            "50000/50000 [==============================] - 7s 143us/step - loss: 0.2812 - acc: 0.9007 - val_loss: 0.2712 - val_acc: 0.9011\n",
            "Epoch 16/20\n",
            "50000/50000 [==============================] - 7s 143us/step - loss: 0.2803 - acc: 0.9007 - val_loss: 0.2689 - val_acc: 0.9015\n",
            "Epoch 17/20\n",
            "50000/50000 [==============================] - 7s 144us/step - loss: 0.2793 - acc: 0.9007 - val_loss: 0.2681 - val_acc: 0.9017\n",
            "Epoch 18/20\n",
            "50000/50000 [==============================] - 7s 145us/step - loss: 0.2784 - acc: 0.9007 - val_loss: 0.2670 - val_acc: 0.9017\n",
            "Epoch 19/20\n",
            "50000/50000 [==============================] - 7s 144us/step - loss: 0.2775 - acc: 0.9010 - val_loss: 0.2658 - val_acc: 0.9018\n",
            "Epoch 20/20\n",
            "50000/50000 [==============================] - 7s 143us/step - loss: 0.2769 - acc: 0.9008 - val_loss: 0.2656 - val_acc: 0.9018\n"
          ],
          "name": "stdout"
        }
      ]
    },
    {
      "cell_type": "markdown",
      "metadata": {
        "id": "xEd9tkr8Ksh2",
        "colab_type": "text"
      },
      "source": [
        "### Evaluate accuracy"
      ]
    },
    {
      "cell_type": "code",
      "metadata": {
        "colab_type": "code",
        "id": "550yXALBuqjQ",
        "outputId": "40af438e-e852-4039-8b8c-34a3f3d0affa",
        "colab": {
          "base_uri": "https://localhost:8080/",
          "height": 54
        }
      },
      "source": [
        "test_loss, test_acc = model.evaluate(test_images, test_labels)\n",
        "\n",
        "print('Test accuracy:', test_acc)"
      ],
      "execution_count": 0,
      "outputs": [
        {
          "output_type": "stream",
          "text": [
            "10000/10000 [==============================] - 1s 69us/step\n",
            "Test accuracy: 0.9017799785614014\n"
          ],
          "name": "stdout"
        }
      ]
    },
    {
      "cell_type": "markdown",
      "metadata": {
        "id": "myqVX3RjKwzq",
        "colab_type": "text"
      },
      "source": [
        "### Training/test loss/accuracy during training "
      ]
    },
    {
      "cell_type": "code",
      "metadata": {
        "colab_type": "code",
        "id": "SMzxUfGZuqjS",
        "outputId": "0584c2a5-0872-46bf-cbbe-81bc181e0506",
        "colab": {
          "base_uri": "https://localhost:8080/",
          "height": 295
        }
      },
      "source": [
        "history_dict = history.history\n",
        "loss_values = history_dict['loss']\n",
        "test_loss_values = history_dict['val_loss']\n",
        "epochs_range = range(1, epochs+1)\n",
        "\n",
        "plt.plot(epochs_range, loss_values, 'bo', label='Training loss')\n",
        "plt.plot(epochs_range, test_loss_values, 'ro', label='Test loss')\n",
        "plt.title('Training and test loss')\n",
        "plt.xlabel('Epochs')\n",
        "plt.ylabel('Loss')\n",
        "plt.legend()\n",
        "plt.show()"
      ],
      "execution_count": 0,
      "outputs": [
        {
          "output_type": "display_data",
          "data": {
            "image/png": "[encoded data removed]",
            "text/plain": [
              "<Figure size 432x288 with 1 Axes>"
            ]
          },
          "metadata": {
            "tags": []
          }
        }
      ]
    },
    {
      "cell_type": "code",
      "metadata": {
        "colab_type": "code",
        "id": "ndZMuWNRuqja",
        "outputId": "0c7d19fc-f93a-4d44-f34f-3b101e3704f4",
        "colab": {
          "base_uri": "https://localhost:8080/",
          "height": 295
        }
      },
      "source": [
        "acc_values = history_dict['acc']\n",
        "test_acc_values = history_dict['val_acc']\n",
        "\n",
        "plt.plot(epochs_range, acc_values, 'bo', label='Training accuracy')\n",
        "plt.plot(epochs_range, test_acc_values, 'ro', label='Test accuracy')\n",
        "plt.title('Training and test accuracy')\n",
        "plt.xlabel('Epochs')\n",
        "plt.ylabel('Accuracy')\n",
        "plt.legend()\n",
        "plt.show()"
      ],
      "execution_count": 0,
      "outputs": [
        {
          "output_type": "display_data",
          "data": {
            "image/png": "[encoded data removed]",
            "text/plain": [
              "<Figure size 432x288 with 1 Axes>"
            ]
          },
          "metadata": {
            "tags": []
          }
        }
      ]
    },
    {
      "cell_type": "markdown",
      "metadata": {
        "id": "8WoaZ89OxjQH",
        "colab_type": "text"
      },
      "source": [
        "The high accuracy of each epoch for the training and testing data is misleading since the neural network has a fairly inconsistent trend for the data. This is a result of undefiting the data and allowing too many positives to conslusively label the data."
      ]
    },
    {
      "cell_type": "markdown",
      "metadata": {
        "id": "tycolgV1kltq",
        "colab_type": "text"
      },
      "source": [
        "## Overfit model"
      ]
    },
    {
      "cell_type": "markdown",
      "metadata": {
        "id": "S0d2nNpGK_Mh",
        "colab_type": "text"
      },
      "source": [
        "### Build the model"
      ]
    },
    {
      "cell_type": "code",
      "metadata": {
        "id": "LNIR-H5r5you",
        "colab_type": "code",
        "colab": {}
      },
      "source": [
        "model = models.Sequential()\n",
        "\n",
        "model.add(layers.Conv2D(128, (3, 3), activation='relu', input_shape=(32, 32, 3)))\n",
        "model.add(layers.Conv2D(64, (3, 3), activation='relu'))\n",
        "model.add(layers.MaxPooling2D(2,2))\n",
        "model.add(layers.Flatten())\n",
        "\n",
        "model.add(layers.Dense(128, activation='relu'))\n",
        "model.add(layers.Dense(10, activation=tf.nn.softmax))"
      ],
      "execution_count": 0,
      "outputs": []
    },
    {
      "cell_type": "code",
      "metadata": {
        "id": "LU0QGL-c6wWx",
        "colab_type": "code",
        "outputId": "0e6633a9-323c-486e-8f77-e0dc77489cc3",
        "colab": {
          "base_uri": "https://localhost:8080/",
          "height": 790
        }
      },
      "source": [
        "# Compile and train\n",
        "model.compile(\n",
        "    loss='binary_crossentropy', \n",
        "    optimizer=optimizers.RMSprop(lr=1e-4),\n",
        "    metrics=['accuracy']\n",
        ")\n",
        "\n",
        "epochs = 20\n",
        "history = model.fit(train_images, \n",
        "                      train_labels, \n",
        "                      epochs=epochs,  \n",
        "                      validation_data=(test_images, test_labels))"
      ],
      "execution_count": 0,
      "outputs": [
        {
          "output_type": "stream",
          "text": [
            "Train on 50000 samples, validate on 10000 samples\n",
            "Epoch 1/20\n",
            "50000/50000 [==============================] - 13s 262us/step - loss: 0.2383 - acc: 0.9103 - val_loss: 0.2075 - val_acc: 0.9198\n",
            "Epoch 2/20\n",
            "50000/50000 [==============================] - 11s 219us/step - loss: 0.1937 - acc: 0.9247 - val_loss: 0.1821 - val_acc: 0.9287\n",
            "Epoch 3/20\n",
            "50000/50000 [==============================] - 11s 219us/step - loss: 0.1720 - acc: 0.9327 - val_loss: 0.1680 - val_acc: 0.9344\n",
            "Epoch 4/20\n",
            "50000/50000 [==============================] - 11s 220us/step - loss: 0.1568 - acc: 0.9391 - val_loss: 0.1623 - val_acc: 0.9367\n",
            "Epoch 5/20\n",
            "50000/50000 [==============================] - 11s 218us/step - loss: 0.1454 - acc: 0.9440 - val_loss: 0.1550 - val_acc: 0.9396\n",
            "Epoch 6/20\n",
            "50000/50000 [==============================] - 11s 224us/step - loss: 0.1358 - acc: 0.9476 - val_loss: 0.1599 - val_acc: 0.9374\n",
            "Epoch 7/20\n",
            "50000/50000 [==============================] - 11s 218us/step - loss: 0.1279 - acc: 0.9512 - val_loss: 0.1470 - val_acc: 0.9434\n",
            "Epoch 8/20\n",
            "50000/50000 [==============================] - 11s 215us/step - loss: 0.1199 - acc: 0.9544 - val_loss: 0.1527 - val_acc: 0.9418\n",
            "Epoch 9/20\n",
            "50000/50000 [==============================] - 11s 215us/step - loss: 0.1125 - acc: 0.9572 - val_loss: 0.1485 - val_acc: 0.9433\n",
            "Epoch 10/20\n",
            "50000/50000 [==============================] - 11s 219us/step - loss: 0.1051 - acc: 0.9605 - val_loss: 0.1608 - val_acc: 0.9393\n",
            "Epoch 11/20\n",
            "50000/50000 [==============================] - 11s 215us/step - loss: 0.0981 - acc: 0.9633 - val_loss: 0.1548 - val_acc: 0.9412\n",
            "Epoch 12/20\n",
            "50000/50000 [==============================] - 11s 218us/step - loss: 0.0910 - acc: 0.9665 - val_loss: 0.1459 - val_acc: 0.9446\n",
            "Epoch 13/20\n",
            "50000/50000 [==============================] - 11s 214us/step - loss: 0.0841 - acc: 0.9694 - val_loss: 0.1532 - val_acc: 0.9444\n",
            "Epoch 14/20\n",
            "50000/50000 [==============================] - 11s 211us/step - loss: 0.0772 - acc: 0.9720 - val_loss: 0.1508 - val_acc: 0.9447\n",
            "Epoch 15/20\n",
            "50000/50000 [==============================] - 11s 213us/step - loss: 0.0704 - acc: 0.9750 - val_loss: 0.1626 - val_acc: 0.9420\n",
            "Epoch 16/20\n",
            "50000/50000 [==============================] - 11s 215us/step - loss: 0.0641 - acc: 0.9775 - val_loss: 0.1655 - val_acc: 0.9423\n",
            "Epoch 17/20\n",
            "50000/50000 [==============================] - 11s 212us/step - loss: 0.0579 - acc: 0.9801 - val_loss: 0.1669 - val_acc: 0.9430\n",
            "Epoch 18/20\n",
            "50000/50000 [==============================] - 11s 216us/step - loss: 0.0516 - acc: 0.9823 - val_loss: 0.1734 - val_acc: 0.9438\n",
            "Epoch 19/20\n",
            "50000/50000 [==============================] - 11s 216us/step - loss: 0.0460 - acc: 0.9845 - val_loss: 0.1803 - val_acc: 0.9422\n",
            "Epoch 20/20\n",
            "50000/50000 [==============================] - 11s 214us/step - loss: 0.0407 - acc: 0.9868 - val_loss: 0.1802 - val_acc: 0.9443\n"
          ],
          "name": "stdout"
        }
      ]
    },
    {
      "cell_type": "markdown",
      "metadata": {
        "id": "GP-JRvkPLPoY",
        "colab_type": "text"
      },
      "source": [
        "### Evaluate accuracy"
      ]
    },
    {
      "cell_type": "code",
      "metadata": {
        "id": "WvYRMK9s67rG",
        "colab_type": "code",
        "outputId": "cda8245d-6c59-49b2-b55a-5853f6d15273",
        "colab": {
          "base_uri": "https://localhost:8080/",
          "height": 54
        }
      },
      "source": [
        "test_loss, test_acc = model.evaluate(test_images, test_labels)\n",
        "\n",
        "print('Test accuracy:', test_acc)"
      ],
      "execution_count": 0,
      "outputs": [
        {
          "output_type": "stream",
          "text": [
            "10000/10000 [==============================] - 1s 87us/step\n",
            "Test accuracy: 0.9443499927520752\n"
          ],
          "name": "stdout"
        }
      ]
    },
    {
      "cell_type": "markdown",
      "metadata": {
        "id": "oPOQrj4YLTe-",
        "colab_type": "text"
      },
      "source": [
        "### Training/test loss/accuracy during training"
      ]
    },
    {
      "cell_type": "code",
      "metadata": {
        "id": "2t7ezBcy7AXg",
        "colab_type": "code",
        "outputId": "f0f1fe68-2d0a-403d-9851-cfd31809bb8f",
        "colab": {
          "base_uri": "https://localhost:8080/",
          "height": 295
        }
      },
      "source": [
        "history_dict = history.history\n",
        "loss_values = history_dict['loss']\n",
        "test_loss_values = history_dict['val_loss']\n",
        "epochs_range = range(1, epochs+1)\n",
        "\n",
        "plt.plot(epochs_range, loss_values, 'bo', label='Training loss')\n",
        "plt.plot(epochs_range, test_loss_values, 'ro', label='Test loss')\n",
        "plt.title('Training and test loss')\n",
        "plt.xlabel('Epochs')\n",
        "plt.ylabel('Loss')\n",
        "plt.legend()\n",
        "plt.show()"
      ],
      "execution_count": 0,
      "outputs": [
        {
          "output_type": "display_data",
          "data": {
            "image/png": "[encoded data removed]",
            "text/plain": [
              "<Figure size 432x288 with 1 Axes>"
            ]
          },
          "metadata": {
            "tags": []
          }
        }
      ]
    },
    {
      "cell_type": "code",
      "metadata": {
        "id": "M8n6V_nmlBie",
        "colab_type": "code",
        "outputId": "f339b4d8-603e-47f5-dc0b-09d413f18e35",
        "colab": {
          "base_uri": "https://localhost:8080/",
          "height": 295
        }
      },
      "source": [
        "acc_values = history_dict['acc']\n",
        "test_acc_values = history_dict['val_acc']\n",
        "\n",
        "plt.plot(epochs_range, acc_values, 'bo', label='Training accuracy')\n",
        "plt.plot(epochs_range, test_acc_values, 'ro', label='Test accuracy')\n",
        "plt.title('Training and test accuracy')\n",
        "plt.xlabel('Epochs')\n",
        "plt.ylabel('Accuracy')\n",
        "plt.legend()\n",
        "plt.show()"
      ],
      "execution_count": 0,
      "outputs": [
        {
          "output_type": "display_data",
          "data": {
            "image/png": "[encoded data removed]",
            "text/plain": [
              "<Figure size 432x288 with 1 Axes>"
            ]
          },
          "metadata": {
            "tags": []
          }
        }
      ]
    },
    {
      "cell_type": "markdown",
      "metadata": {
        "id": "U0PruQp0fl8X",
        "colab_type": "text"
      },
      "source": [
        "The large gap between training and testing is a clear indication of an overfit model. The high traning accuracy resulting from a reduced amount of layers with sizes smaller than images sizes assist in creating this overfit gap."
      ]
    },
    {
      "cell_type": "markdown",
      "metadata": {
        "id": "mNqKXUfGkpok",
        "colab_type": "text"
      },
      "source": [
        "## Pretty good model"
      ]
    },
    {
      "cell_type": "code",
      "metadata": {
        "id": "kiib0pAKks1n",
        "colab_type": "code",
        "colab": {}
      },
      "source": [
        "model = models.Sequential()\n",
        "\n",
        "model.add(layers.Conv2D(32, (3, 3), activation='relu', input_shape=(32, 32, 3)))\n",
        "model.add(layers.Conv2D(32, (3, 3), activation='relu'))\n",
        "model.add(layers.BatchNormalization())\n",
        "model.add(layers.Dropout(.15))\n",
        "model.add(layers.Conv2D(64, (3, 3), activation='relu'))\n",
        "model.add(layers.Conv2D(64, (3, 3), activation='relu'))\n",
        "model.add(layers.MaxPooling2D())\n",
        "model.add(layers.Dropout(.25))\n",
        "model.add(layers.Conv2D(128, (3, 3), activation='relu'))\n",
        "model.add(layers.Conv2D(128, (3, 3), activation='relu'))\n",
        "model.add(layers.MaxPooling2D(2,2))\n",
        "model.add(layers.BatchNormalization())\n",
        "model.add(layers.Dropout(.25))\n",
        "\n",
        "model.add(layers.Flatten())\n",
        "model.add(layers.Dense(16, activation='relu'))\n",
        "model.add(layers.BatchNormalization())\n",
        "model.add(layers.Dropout(.25))\n",
        "model.add(layers.Dense(10, activation='softmax'))"
      ],
      "execution_count": 0,
      "outputs": []
    },
    {
      "cell_type": "code",
      "metadata": {
        "id": "kt0ui_ODkwV3",
        "colab_type": "code",
        "outputId": "f8fd204c-09ba-4d7a-eba5-d44db0a44fd0",
        "colab": {
          "base_uri": "https://localhost:8080/",
          "height": 790
        }
      },
      "source": [
        "# Compile and train\n",
        "model.compile(\n",
        "    loss='binary_crossentropy', \n",
        "    optimizer=optimizers.RMSprop(lr=1e-4),\n",
        "    metrics=['accuracy']\n",
        ")\n",
        "\n",
        "epochs = 20\n",
        "history = model.fit(train_images, \n",
        "                      train_labels, \n",
        "                      epochs=epochs,  \n",
        "                      validation_data=(test_images, test_labels))"
      ],
      "execution_count": 0,
      "outputs": [
        {
          "output_type": "stream",
          "text": [
            "Train on 50000 samples, validate on 10000 samples\n",
            "Epoch 1/20\n",
            "50000/50000 [==============================] - 23s 462us/step - loss: 0.2866 - acc: 0.8990 - val_loss: 0.2427 - val_acc: 0.9068\n",
            "Epoch 2/20\n",
            "50000/50000 [==============================] - 20s 390us/step - loss: 0.2385 - acc: 0.9096 - val_loss: 0.2084 - val_acc: 0.9184\n",
            "Epoch 3/20\n",
            "50000/50000 [==============================] - 19s 375us/step - loss: 0.2125 - acc: 0.9183 - val_loss: 0.1952 - val_acc: 0.9246\n",
            "Epoch 4/20\n",
            "50000/50000 [==============================] - 19s 381us/step - loss: 0.1948 - acc: 0.9250 - val_loss: 0.1798 - val_acc: 0.9299\n",
            "Epoch 5/20\n",
            "50000/50000 [==============================] - 19s 378us/step - loss: 0.1815 - acc: 0.9300 - val_loss: 0.1677 - val_acc: 0.9352\n",
            "Epoch 6/20\n",
            "50000/50000 [==============================] - 19s 371us/step - loss: 0.1706 - acc: 0.9339 - val_loss: 0.1579 - val_acc: 0.9387\n",
            "Epoch 7/20\n",
            "50000/50000 [==============================] - 19s 382us/step - loss: 0.1623 - acc: 0.9371 - val_loss: 0.1444 - val_acc: 0.9434\n",
            "Epoch 8/20\n",
            "50000/50000 [==============================] - 19s 384us/step - loss: 0.1552 - acc: 0.9399 - val_loss: 0.1363 - val_acc: 0.9465\n",
            "Epoch 9/20\n",
            "50000/50000 [==============================] - 19s 383us/step - loss: 0.1494 - acc: 0.9423 - val_loss: 0.1317 - val_acc: 0.9492\n",
            "Epoch 10/20\n",
            "50000/50000 [==============================] - 19s 376us/step - loss: 0.1433 - acc: 0.9448 - val_loss: 0.1296 - val_acc: 0.9497\n",
            "Epoch 11/20\n",
            "50000/50000 [==============================] - 18s 359us/step - loss: 0.1391 - acc: 0.9462 - val_loss: 0.1306 - val_acc: 0.9498\n",
            "Epoch 12/20\n",
            "50000/50000 [==============================] - 18s 358us/step - loss: 0.1346 - acc: 0.9479 - val_loss: 0.1219 - val_acc: 0.9517\n",
            "Epoch 13/20\n",
            "50000/50000 [==============================] - 18s 367us/step - loss: 0.1305 - acc: 0.9498 - val_loss: 0.1202 - val_acc: 0.9536\n",
            "Epoch 14/20\n",
            "50000/50000 [==============================] - 18s 361us/step - loss: 0.1272 - acc: 0.9512 - val_loss: 0.1225 - val_acc: 0.9532\n",
            "Epoch 15/20\n",
            "50000/50000 [==============================] - 18s 356us/step - loss: 0.1237 - acc: 0.9527 - val_loss: 0.1246 - val_acc: 0.9521\n",
            "Epoch 16/20\n",
            "50000/50000 [==============================] - 18s 350us/step - loss: 0.1214 - acc: 0.9537 - val_loss: 0.1219 - val_acc: 0.9530\n",
            "Epoch 17/20\n",
            "50000/50000 [==============================] - 18s 353us/step - loss: 0.1178 - acc: 0.9548 - val_loss: 0.1181 - val_acc: 0.9545\n",
            "Epoch 18/20\n",
            "50000/50000 [==============================] - 18s 355us/step - loss: 0.1157 - acc: 0.9556 - val_loss: 0.1193 - val_acc: 0.9544\n",
            "Epoch 19/20\n",
            "50000/50000 [==============================] - 18s 351us/step - loss: 0.1122 - acc: 0.9571 - val_loss: 0.1075 - val_acc: 0.9586\n",
            "Epoch 20/20\n",
            "50000/50000 [==============================] - 18s 351us/step - loss: 0.1107 - acc: 0.9575 - val_loss: 0.1106 - val_acc: 0.9577\n"
          ],
          "name": "stdout"
        }
      ]
    },
    {
      "cell_type": "markdown",
      "metadata": {
        "id": "xBG_nqjVMosY",
        "colab_type": "text"
      },
      "source": [
        "### Evaluate accuracy"
      ]
    },
    {
      "cell_type": "code",
      "metadata": {
        "id": "Et6hiUBtky8R",
        "colab_type": "code",
        "outputId": "f185b89b-d60c-464e-ec79-bdf1eff417af",
        "colab": {
          "base_uri": "https://localhost:8080/",
          "height": 54
        }
      },
      "source": [
        "test_loss, test_acc = model.evaluate(test_images, test_labels)\n",
        "\n",
        "print('Test accuracy:', test_acc)"
      ],
      "execution_count": 0,
      "outputs": [
        {
          "output_type": "stream",
          "text": [
            "10000/10000 [==============================] - 1s 115us/step\n",
            "Test accuracy: 0.9576599964141845\n"
          ],
          "name": "stdout"
        }
      ]
    },
    {
      "cell_type": "markdown",
      "metadata": {
        "id": "KIVRdxssM1fU",
        "colab_type": "text"
      },
      "source": [
        "### Training/test loss/accuracy during training"
      ]
    },
    {
      "cell_type": "code",
      "metadata": {
        "id": "fQqYbJw-k8Qv",
        "colab_type": "code",
        "outputId": "5b6fea99-771b-4cb1-f46c-46b41f65220a",
        "colab": {
          "base_uri": "https://localhost:8080/",
          "height": 295
        }
      },
      "source": [
        "history_dict = history.history\n",
        "loss_values = history_dict['loss']\n",
        "test_loss_values = history_dict['val_loss']\n",
        "epochs_range = range(1, epochs+1)\n",
        "\n",
        "plt.plot(epochs_range, loss_values, 'bo', label='Training loss')\n",
        "plt.plot(epochs_range, test_loss_values, 'ro', label='Test loss')\n",
        "plt.title('Training and test loss')\n",
        "plt.xlabel('Epochs')\n",
        "plt.ylabel('Loss')\n",
        "plt.legend()\n",
        "plt.show()"
      ],
      "execution_count": 0,
      "outputs": [
        {
          "output_type": "display_data",
          "data": {
            "image/png": "[encoded data removed]",
            "text/plain": [
              "<Figure size 432x288 with 1 Axes>"
            ]
          },
          "metadata": {
            "tags": []
          }
        }
      ]
    },
    {
      "cell_type": "code",
      "metadata": {
        "id": "SF8tJBOrseVz",
        "colab_type": "code",
        "outputId": "5bc799ac-7754-427e-f3cd-73370a43dd06",
        "colab": {
          "base_uri": "https://localhost:8080/",
          "height": 295
        }
      },
      "source": [
        "acc_values = history_dict['acc']\n",
        "test_acc_values = history_dict['val_acc']\n",
        "\n",
        "plt.plot(epochs_range, acc_values, 'bo', label='Training accuracy')\n",
        "plt.plot(epochs_range, test_acc_values, 'ro', label='Test accuracy')\n",
        "plt.title('Training and test accuracy')\n",
        "plt.xlabel('Epochs')\n",
        "plt.ylabel('Accuracy')\n",
        "plt.legend()\n",
        "plt.show()"
      ],
      "execution_count": 0,
      "outputs": [
        {
          "output_type": "display_data",
          "data": {
            "image/png": "[encoded data removed]",
            "text/plain": [
              "<Figure size 432x288 with 1 Axes>"
            ]
          },
          "metadata": {
            "tags": []
          }
        }
      ]
    },
    {
      "cell_type": "markdown",
      "metadata": {
        "id": "usTO6clqrJQw",
        "colab_type": "text"
      },
      "source": [
        "This pretty good model utilizes max pooling and dropouts to modify the training epochs to align more with the testing's data. This model does not have an excessive gap between the training and testing accuracy which does not produce an overfit model. "
      ]
    }
  ]
}