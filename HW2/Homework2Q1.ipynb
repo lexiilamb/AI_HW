{
  "nbformat": 4,
  "nbformat_minor": 0,
  "metadata": {
    "colab": {
      "name": "Homework2Q1.ipynb",
      "provenance": [],
      "collapsed_sections": []
    },
    "kernelspec": {
      "name": "python3",
      "display_name": "Python 3"
    }
  },
  "cells": [
    {
      "cell_type": "markdown",
      "metadata": {
        "id": "X1vTRY_IKQ20",
        "colab_type": "text"
      },
      "source": [
        "# Homework 2 Question 1"
      ]
    },
    {
      "cell_type": "markdown",
      "metadata": {
        "id": "l4UwU66ZKbyT",
        "colab_type": "text"
      },
      "source": [
        "## Imports"
      ]
    },
    {
      "cell_type": "code",
      "metadata": {
        "id": "KQoBxYKBKF73",
        "colab_type": "code",
        "colab": {}
      },
      "source": [
        "from keras import models\n",
        "from keras import layers\n",
        "from keras.datasets import mnist\n",
        "from keras.utils import to_categorical\n",
        "import numpy as np\n",
        "import matplotlib.pyplot as plt"
      ],
      "execution_count": 0,
      "outputs": []
    },
    {
      "cell_type": "markdown",
      "metadata": {
        "id": "wNYqeQ0oKkyb",
        "colab_type": "text"
      },
      "source": [
        "## Preparing image data"
      ]
    },
    {
      "cell_type": "code",
      "metadata": {
        "id": "uAoV62EJKpqr",
        "colab_type": "code",
        "colab": {}
      },
      "source": [
        "# Load training and testing data into variables then format\n",
        "(train_images_original, train_labels_original), (test_images_original, test_labels_original) = mnist.load_data()\n",
        "\n",
        "train_images = train_images_original.reshape((60000, 28, 28))\n",
        "train_images = train_images.astype('float64') / 255\n",
        "\n",
        "test_images = test_images_original.reshape((10000,  28, 28))\n",
        "test_images = test_images.astype('float64') / 255\n",
        "\n",
        "train_images_avg = np.zeros((60000, 28))\n",
        "test_images_avg = np.zeros((10000, 28))\n",
        "\n",
        "for i in range(len(train_images)):\n",
        "  train_images_avg[i] = np.mean(train_images[i], axis = 0) + np.mean(train_images[i], axis = 1)\n",
        "\n",
        "for i in range(len(test_images)):\n",
        "  test_images_avg[i] = np.mean(test_images[i], axis = 0) + np.mean(test_images[i], axis = 1)\n",
        "\n",
        "# Create labels\n",
        "train_labels = to_categorical(train_labels_original)\n",
        "test_labels = to_categorical(test_labels_original)\n"
      ],
      "execution_count": 0,
      "outputs": []
    },
    {
      "cell_type": "markdown",
      "metadata": {
        "id": "C8zVuMFbLXOW",
        "colab_type": "text"
      },
      "source": [
        "## Build the model"
      ]
    },
    {
      "cell_type": "code",
      "metadata": {
        "id": "5nE046g6LdUc",
        "colab_type": "code",
        "outputId": "3691c5b7-494a-4920-d71e-855d4d0c1807",
        "colab": {
          "base_uri": "https://localhost:8080/",
          "height": 237
        }
      },
      "source": [
        "# Setup the layers\n",
        "network = models.Sequential()\n",
        "network.add(layers.Dense(512, activation='relu', input_shape=(28, )))\n",
        "network.add(layers.Dense(10, activation='softmax'))\n",
        "network.summary()"
      ],
      "execution_count": 0,
      "outputs": [
        {
          "output_type": "stream",
          "text": [
            "Model: \"sequential_5\"\n",
            "_________________________________________________________________\n",
            "Layer (type)                 Output Shape              Param #   \n",
            "=================================================================\n",
            "dense_9 (Dense)              (None, 512)               14848     \n",
            "_________________________________________________________________\n",
            "dense_10 (Dense)             (None, 10)                5130      \n",
            "=================================================================\n",
            "Total params: 19,978\n",
            "Trainable params: 19,978\n",
            "Non-trainable params: 0\n",
            "_________________________________________________________________\n"
          ],
          "name": "stdout"
        }
      ]
    },
    {
      "cell_type": "code",
      "metadata": {
        "id": "Qh7F_RnrMYu0",
        "colab_type": "code",
        "outputId": "53fa31bc-5412-4a59-b0b0-f5eb0b289dd8",
        "colab": {
          "base_uri": "https://localhost:8080/",
          "height": 790
        }
      },
      "source": [
        "# Complie the model\n",
        "network.compile(optimizer='rmsprop',\n",
        "                loss='categorical_crossentropy',\n",
        "                metrics=['accuracy'])\n",
        "\n",
        "# train the model\n",
        "epochs = 20\n",
        "history = network.fit(train_images_avg, \n",
        "                      train_labels, \n",
        "                      epochs=epochs, \n",
        "                      batch_size=128, \n",
        "                      validation_data=(test_images_avg, test_labels))"
      ],
      "execution_count": 0,
      "outputs": [
        {
          "output_type": "stream",
          "text": [
            "Train on 60000 samples, validate on 10000 samples\n",
            "Epoch 1/20\n",
            "60000/60000 [==============================] - 1s 19us/step - loss: 1.3180 - acc: 0.5967 - val_loss: 1.0716 - val_acc: 0.6612\n",
            "Epoch 2/20\n",
            "60000/60000 [==============================] - 1s 16us/step - loss: 1.0404 - acc: 0.6621 - val_loss: 0.9803 - val_acc: 0.6823\n",
            "Epoch 3/20\n",
            "60000/60000 [==============================] - 1s 16us/step - loss: 0.9603 - acc: 0.6856 - val_loss: 0.9138 - val_acc: 0.6983\n",
            "Epoch 4/20\n",
            "60000/60000 [==============================] - 1s 16us/step - loss: 0.9077 - acc: 0.7037 - val_loss: 0.8862 - val_acc: 0.7036\n",
            "Epoch 5/20\n",
            "60000/60000 [==============================] - 1s 16us/step - loss: 0.8690 - acc: 0.7151 - val_loss: 0.8421 - val_acc: 0.7203\n",
            "Epoch 6/20\n",
            "60000/60000 [==============================] - 1s 16us/step - loss: 0.8402 - acc: 0.7249 - val_loss: 0.8210 - val_acc: 0.7322\n",
            "Epoch 7/20\n",
            "60000/60000 [==============================] - 1s 16us/step - loss: 0.8178 - acc: 0.7318 - val_loss: 0.8075 - val_acc: 0.7329\n",
            "Epoch 8/20\n",
            "60000/60000 [==============================] - 1s 16us/step - loss: 0.7995 - acc: 0.7389 - val_loss: 0.7904 - val_acc: 0.7420\n",
            "Epoch 9/20\n",
            "60000/60000 [==============================] - 1s 16us/step - loss: 0.7844 - acc: 0.7441 - val_loss: 0.7768 - val_acc: 0.7473\n",
            "Epoch 10/20\n",
            "60000/60000 [==============================] - 1s 16us/step - loss: 0.7720 - acc: 0.7477 - val_loss: 0.7630 - val_acc: 0.7518\n",
            "Epoch 11/20\n",
            "60000/60000 [==============================] - 1s 16us/step - loss: 0.7603 - acc: 0.7514 - val_loss: 0.7541 - val_acc: 0.7533\n",
            "Epoch 12/20\n",
            "60000/60000 [==============================] - 1s 16us/step - loss: 0.7507 - acc: 0.7540 - val_loss: 0.7443 - val_acc: 0.7572\n",
            "Epoch 13/20\n",
            "60000/60000 [==============================] - 1s 16us/step - loss: 0.7412 - acc: 0.7574 - val_loss: 0.7418 - val_acc: 0.7529\n",
            "Epoch 14/20\n",
            "60000/60000 [==============================] - 1s 16us/step - loss: 0.7316 - acc: 0.7597 - val_loss: 0.7334 - val_acc: 0.7601\n",
            "Epoch 15/20\n",
            "60000/60000 [==============================] - 1s 16us/step - loss: 0.7234 - acc: 0.7635 - val_loss: 0.7386 - val_acc: 0.7595\n",
            "Epoch 16/20\n",
            "60000/60000 [==============================] - 1s 16us/step - loss: 0.7163 - acc: 0.7650 - val_loss: 0.7198 - val_acc: 0.7618\n",
            "Epoch 17/20\n",
            "60000/60000 [==============================] - 1s 16us/step - loss: 0.7092 - acc: 0.7686 - val_loss: 0.7131 - val_acc: 0.7615\n",
            "Epoch 18/20\n",
            "60000/60000 [==============================] - 1s 16us/step - loss: 0.7021 - acc: 0.7699 - val_loss: 0.7154 - val_acc: 0.7630\n",
            "Epoch 19/20\n",
            "60000/60000 [==============================] - 1s 16us/step - loss: 0.6952 - acc: 0.7721 - val_loss: 0.7153 - val_acc: 0.7693\n",
            "Epoch 20/20\n",
            "60000/60000 [==============================] - 1s 16us/step - loss: 0.6899 - acc: 0.7747 - val_loss: 0.6910 - val_acc: 0.7742\n"
          ],
          "name": "stdout"
        }
      ]
    },
    {
      "cell_type": "markdown",
      "metadata": {
        "id": "KzmYoPtZMnQa",
        "colab_type": "text"
      },
      "source": [
        "### Training/test loss/accuracy"
      ]
    },
    {
      "cell_type": "code",
      "metadata": {
        "id": "eV6lHO9QMn-2",
        "colab_type": "code",
        "outputId": "d1c84776-67ed-4bab-96ad-acc52da82a11",
        "colab": {
          "base_uri": "https://localhost:8080/",
          "height": 295
        }
      },
      "source": [
        "history_dict = history.history\n",
        "loss_values = history_dict['loss']\n",
        "test_loss_values = history_dict['val_loss']\n",
        "epochs_range = range(1, epochs+1)\n",
        "\n",
        "plt.plot(epochs_range, loss_values, 'bo', label='Training loss')\n",
        "plt.plot(epochs_range, test_loss_values, 'ro', label='Test loss')\n",
        "plt.title('Training and test loss')\n",
        "plt.xlabel('Epochs')\n",
        "plt.ylabel('Loss')\n",
        "plt.legend()\n",
        "plt.show()"
      ],
      "execution_count": 0,
      "outputs": [
        {
          "output_type": "display_data",
          "data": {
            "image/png": "[encoded data removed]",
            "text/plain": [
              "<Figure size 432x288 with 1 Axes>"
            ]
          },
          "metadata": {
            "tags": []
          }
        }
      ]
    },
    {
      "cell_type": "code",
      "metadata": {
        "id": "arEnmG5tMuSm",
        "colab_type": "code",
        "outputId": "755718b9-0aa1-4e4a-ab32-f3faa913d511",
        "colab": {
          "base_uri": "https://localhost:8080/",
          "height": 295
        }
      },
      "source": [
        "acc_values = history_dict['acc']\n",
        "test_acc_values = history_dict['val_acc']\n",
        "\n",
        "plt.plot(epochs_range, acc_values, 'bo', label='Training accuracy')\n",
        "plt.plot(epochs_range, test_acc_values, 'ro', label='Test accuracy')\n",
        "plt.title('Training and test accuracy')\n",
        "plt.xlabel('Epochs')\n",
        "plt.ylabel('Accuracy')\n",
        "plt.legend()\n",
        "plt.show()"
      ],
      "execution_count": 0,
      "outputs": [
        {
          "output_type": "display_data",
          "data": {
            "image/png": "[encoded data removed]",
            "text/plain": [
              "<Figure size 432x288 with 1 Axes>"
            ]
          },
          "metadata": {
            "tags": []
          }
        }
      ]
    }
  ]
}