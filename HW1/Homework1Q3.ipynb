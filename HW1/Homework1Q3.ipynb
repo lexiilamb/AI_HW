{
  "nbformat": 4,
  "nbformat_minor": 0,
  "metadata": {
    "colab": {
      "name": "Homework1Q3.ipynb",
      "provenance": [],
      "collapsed_sections": []
    },
    "kernelspec": {
      "name": "python3",
      "display_name": "Python 3"
    }
  },
  "cells": [
    {
      "cell_type": "markdown",
      "metadata": {
        "id": "WEoiQwaXKJCY",
        "colab_type": "text"
      },
      "source": [
        "# Homework 1 Question 3"
      ]
    },
    {
      "cell_type": "markdown",
      "metadata": {
        "id": "b_w86oJYKYFM",
        "colab_type": "text"
      },
      "source": [
        "## Load MNIST didgts data set"
      ]
    },
    {
      "cell_type": "code",
      "metadata": {
        "id": "13m-M8OXGCmJ",
        "colab_type": "code",
        "outputId": "6317a71f-3389-48cc-b1f8-39b991171f59",
        "colab": {
          "base_uri": "https://localhost:8080/",
          "height": 68
        }
      },
      "source": [
        "# Imports\n",
        "from keras.datasets import mnist\n",
        "(train_images, train_labels), (test_images, test_labels) = mnist.load_data()\n",
        "import numpy as np\n",
        "import matplotlib.pyplot as plt"
      ],
      "execution_count": 0,
      "outputs": [
        {
          "output_type": "stream",
          "text": [
            "Using TensorFlow backend.\n"
          ],
          "name": "stderr"
        },
        {
          "output_type": "stream",
          "text": [
            "Downloading data from https://s3.amazonaws.com/img-datasets/mnist.npz\n",
            "11493376/11490434 [==============================] - 1s 0us/step\n"
          ],
          "name": "stdout"
        }
      ]
    },
    {
      "cell_type": "markdown",
      "metadata": {
        "id": "Y_o3ou0FGGej",
        "colab_type": "text"
      },
      "source": [
        "Create an array of arrays to hold total image count"
      ]
    },
    {
      "cell_type": "markdown",
      "metadata": {
        "id": "3uu3q8TIKgNo",
        "colab_type": "text"
      },
      "source": [
        "## Average each set of digits"
      ]
    },
    {
      "cell_type": "code",
      "metadata": {
        "id": "TGVltlCBGG6e",
        "colab_type": "code",
        "colab": {}
      },
      "source": [
        "# Array of arrays for each digit's data\n",
        "trainImages = np.zeros([10, 28, 28], dtype = np.int64)\n",
        "imageCount = np.zeros([10], dtype = np.int64)"
      ],
      "execution_count": 0,
      "outputs": []
    },
    {
      "cell_type": "code",
      "metadata": {
        "id": "nDYIdPwJGJi7",
        "colab_type": "code",
        "colab": {}
      },
      "source": [
        "# Iterate through the training set and save current image's numerical value \n",
        "# Then increment the counter for the image's numerical value\n",
        "for image in range(len(train_labels)):\n",
        "  imgNum = train_labels[image]\n",
        "  imageCount[imgNum] += 1\n",
        "  \n",
        "  # Loop through and add each pixel's value to final matrix\n",
        "  for i in range(0, 28):\n",
        "    for j in range(0,28):\n",
        "      trainImages[imgNum][i][j] += train_images[image][i][j] "
      ],
      "execution_count": 0,
      "outputs": []
    },
    {
      "cell_type": "code",
      "metadata": {
        "id": "RE2T2kkwGLw2",
        "colab_type": "code",
        "colab": {}
      },
      "source": [
        "# Find the averages by dividing pixel by total number of images for each digit\n",
        "for img in range(10):\n",
        "  for i in range(0, 28):\n",
        "    for j in range(0,28):\n",
        "      trainImages[img][i][j] = trainImages[img][i][j]/imageCount[img]"
      ],
      "execution_count": 0,
      "outputs": []
    },
    {
      "cell_type": "markdown",
      "metadata": {
        "id": "qmecEgGUKrq0",
        "colab_type": "text"
      },
      "source": [
        "## Display results"
      ]
    },
    {
      "cell_type": "markdown",
      "metadata": {
        "id": "T97zbHAX2vff",
        "colab_type": "text"
      },
      "source": [
        "### Image 0"
      ]
    },
    {
      "cell_type": "code",
      "metadata": {
        "id": "8WRuLt6NGNaK",
        "colab_type": "code",
        "outputId": "2d550e9f-d185-4073-981d-2914b2719b44",
        "colab": {
          "base_uri": "https://localhost:8080/",
          "height": 269
        }
      },
      "source": [
        "digit_0 = trainImages[0]\n",
        "plt.figure(figsize=(4,4))\n",
        "plt.imshow(digit_0)\n",
        "plt.show()"
      ],
      "execution_count": 0,
      "outputs": [
        {
          "output_type": "display_data",
          "data": {
            "image/png": "[encoded data removed]",
            "text/plain": [
              "<Figure size 288x288 with 1 Axes>"
            ]
          },
          "metadata": {
            "tags": []
          }
        }
      ]
    },
    {
      "cell_type": "markdown",
      "metadata": {
        "id": "R-wHv6qO21EA",
        "colab_type": "text"
      },
      "source": [
        "### Image 1"
      ]
    },
    {
      "cell_type": "code",
      "metadata": {
        "id": "eQP_zZ43GPgD",
        "colab_type": "code",
        "outputId": "efb89edc-0ac9-490a-eeb4-f0094a2c03a9",
        "colab": {
          "base_uri": "https://localhost:8080/",
          "height": 269
        }
      },
      "source": [
        "digit_1 = trainImages[1]\n",
        "plt.figure(figsize=(4,4))\n",
        "plt.imshow(digit_1)\n",
        "plt.show()"
      ],
      "execution_count": 0,
      "outputs": [
        {
          "output_type": "display_data",
          "data": {
            "image/png": "[encoded data removed]",
            "text/plain": [
              "<Figure size 288x288 with 1 Axes>"
            ]
          },
          "metadata": {
            "tags": []
          }
        }
      ]
    },
    {
      "cell_type": "markdown",
      "metadata": {
        "id": "CBA6R5T9213v",
        "colab_type": "text"
      },
      "source": [
        "### Image 2"
      ]
    },
    {
      "cell_type": "code",
      "metadata": {
        "id": "g4Ose4bYGQwJ",
        "colab_type": "code",
        "outputId": "9a749738-c183-4eac-c6db-0fa05ad377ab",
        "colab": {
          "base_uri": "https://localhost:8080/",
          "height": 269
        }
      },
      "source": [
        "digit_2 = trainImages[2]\n",
        "plt.figure(figsize=(4,4))\n",
        "plt.imshow(digit_2)\n",
        "plt.show()"
      ],
      "execution_count": 0,
      "outputs": [
        {
          "output_type": "display_data",
          "data": {
            "image/png": "[encoded data removed]",
            "text/plain": [
              "<Figure size 288x288 with 1 Axes>"
            ]
          },
          "metadata": {
            "tags": []
          }
        }
      ]
    },
    {
      "cell_type": "markdown",
      "metadata": {
        "id": "y3gwArMQ223D",
        "colab_type": "text"
      },
      "source": [
        "### Image 3"
      ]
    },
    {
      "cell_type": "code",
      "metadata": {
        "id": "ADqQ5eaxGRkl",
        "colab_type": "code",
        "outputId": "03bb9eb7-a6d3-4aa0-b559-356b8e00da4f",
        "colab": {
          "base_uri": "https://localhost:8080/",
          "height": 269
        }
      },
      "source": [
        "digit_3 = trainImages[3]\n",
        "plt.figure(figsize=(4,4))\n",
        "plt.imshow(digit_3)\n",
        "plt.show()"
      ],
      "execution_count": 0,
      "outputs": [
        {
          "output_type": "display_data",
          "data": {
            "image/png": "[encoded data removed]",
            "text/plain": [
              "<Figure size 288x288 with 1 Axes>"
            ]
          },
          "metadata": {
            "tags": []
          }
        }
      ]
    },
    {
      "cell_type": "markdown",
      "metadata": {
        "id": "27t0R_7O23ht",
        "colab_type": "text"
      },
      "source": [
        "### Image 4"
      ]
    },
    {
      "cell_type": "code",
      "metadata": {
        "id": "7dHLXqAuGSWw",
        "colab_type": "code",
        "outputId": "f2af26dc-709d-4532-d4ca-81ee1d84783a",
        "colab": {
          "base_uri": "https://localhost:8080/",
          "height": 269
        }
      },
      "source": [
        "digit_4 = trainImages[4]\n",
        "plt.figure(figsize=(4,4))\n",
        "plt.imshow(digit_4)\n",
        "plt.show()"
      ],
      "execution_count": 0,
      "outputs": [
        {
          "output_type": "display_data",
          "data": {
            "image/png": "[encoded data removed]",
            "text/plain": [
              "<Figure size 288x288 with 1 Axes>"
            ]
          },
          "metadata": {
            "tags": []
          }
        }
      ]
    },
    {
      "cell_type": "markdown",
      "metadata": {
        "id": "CtmGTARi24P2",
        "colab_type": "text"
      },
      "source": [
        "### Image 5"
      ]
    },
    {
      "cell_type": "code",
      "metadata": {
        "id": "Es8Ba7ptGTCd",
        "colab_type": "code",
        "outputId": "4aede5f5-4384-414d-ea04-20d52562cee1",
        "colab": {
          "base_uri": "https://localhost:8080/",
          "height": 269
        }
      },
      "source": [
        "digit_5 = trainImages[5]\n",
        "plt.figure(figsize=(4,4))\n",
        "plt.imshow(digit_5)\n",
        "plt.show()"
      ],
      "execution_count": 0,
      "outputs": [
        {
          "output_type": "display_data",
          "data": {
            "image/png": "[encoded data removed]",
            "text/plain": [
              "<Figure size 288x288 with 1 Axes>"
            ]
          },
          "metadata": {
            "tags": []
          }
        }
      ]
    },
    {
      "cell_type": "markdown",
      "metadata": {
        "id": "A4DyDMmb25ZB",
        "colab_type": "text"
      },
      "source": [
        "### Image 6"
      ]
    },
    {
      "cell_type": "code",
      "metadata": {
        "id": "syxJ5nB_GUM_",
        "colab_type": "code",
        "outputId": "7a584d7a-389c-47a9-fb66-5f01a36d02db",
        "colab": {
          "base_uri": "https://localhost:8080/",
          "height": 269
        }
      },
      "source": [
        "digit_6 = trainImages[6]\n",
        "plt.figure(figsize=(4,4))\n",
        "plt.imshow(digit_6)\n",
        "plt.show()"
      ],
      "execution_count": 0,
      "outputs": [
        {
          "output_type": "display_data",
          "data": {
            "image/png": "[encoded data removed]",
            "text/plain": [
              "<Figure size 288x288 with 1 Axes>"
            ]
          },
          "metadata": {
            "tags": []
          }
        }
      ]
    },
    {
      "cell_type": "markdown",
      "metadata": {
        "id": "JHWwNb0t27N-",
        "colab_type": "text"
      },
      "source": [
        "### Image 7"
      ]
    },
    {
      "cell_type": "code",
      "metadata": {
        "id": "EEzh4a0kGVJw",
        "colab_type": "code",
        "outputId": "5f62ee38-f22a-4f00-962a-9c49d9908c6e",
        "colab": {
          "base_uri": "https://localhost:8080/",
          "height": 269
        }
      },
      "source": [
        "digit_7 = trainImages[7]\n",
        "plt.figure(figsize=(4,4))\n",
        "plt.imshow(digit_7)\n",
        "plt.show()"
      ],
      "execution_count": 0,
      "outputs": [
        {
          "output_type": "display_data",
          "data": {
            "image/png": "[encoded data removed]",
            "text/plain": [
              "<Figure size 288x288 with 1 Axes>"
            ]
          },
          "metadata": {
            "tags": []
          }
        }
      ]
    },
    {
      "cell_type": "markdown",
      "metadata": {
        "id": "Z1HO69-z279D",
        "colab_type": "text"
      },
      "source": [
        "### Image 8"
      ]
    },
    {
      "cell_type": "code",
      "metadata": {
        "id": "Z-ibBSENGWQN",
        "colab_type": "code",
        "outputId": "f5bf4124-05cb-4582-9d4e-c02f64d5ec36",
        "colab": {
          "base_uri": "https://localhost:8080/",
          "height": 269
        }
      },
      "source": [
        "digit_8 = trainImages[8]\n",
        "plt.figure(figsize=(4,4))\n",
        "plt.imshow(digit_8)\n",
        "plt.show()"
      ],
      "execution_count": 0,
      "outputs": [
        {
          "output_type": "display_data",
          "data": {
            "image/png": "[encoded data removed]",
            "text/plain": [
              "<Figure size 288x288 with 1 Axes>"
            ]
          },
          "metadata": {
            "tags": []
          }
        }
      ]
    },
    {
      "cell_type": "markdown",
      "metadata": {
        "id": "9hjkdgm52-Ud",
        "colab_type": "text"
      },
      "source": [
        "### Image 9"
      ]
    },
    {
      "cell_type": "code",
      "metadata": {
        "id": "8Z3vyWF5GXO4",
        "colab_type": "code",
        "outputId": "020c55b7-c48b-409e-ac72-702d1aa250b6",
        "colab": {
          "base_uri": "https://localhost:8080/",
          "height": 269
        }
      },
      "source": [
        "digit_9 = trainImages[9]\n",
        "plt.figure(figsize=(4,4))\n",
        "plt.imshow(digit_9)\n",
        "plt.show()"
      ],
      "execution_count": 0,
      "outputs": [
        {
          "output_type": "display_data",
          "data": {
            "image/png": "[encoded data removed]",
            "text/plain": [
              "<Figure size 288x288 with 1 Axes>"
            ]
          },
          "metadata": {
            "tags": []
          }
        }
      ]
    }
  ]
}