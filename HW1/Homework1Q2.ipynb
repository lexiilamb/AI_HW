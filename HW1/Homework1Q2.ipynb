{
  "nbformat": 4,
  "nbformat_minor": 0,
  "metadata": {
    "colab": {
      "name": "Homework1Q2.ipynb",
      "provenance": [],
      "collapsed_sections": []
    },
    "kernelspec": {
      "name": "python3",
      "display_name": "Python 3"
    }
  },
  "cells": [
    {
      "cell_type": "markdown",
      "metadata": {
        "id": "byjapfnK7tL0",
        "colab_type": "text"
      },
      "source": [
        "# Homework 1 Question 2"
      ]
    },
    {
      "cell_type": "markdown",
      "metadata": {
        "id": "1JjWZ7hO7vCZ",
        "colab_type": "text"
      },
      "source": [
        "## Imports"
      ]
    },
    {
      "cell_type": "code",
      "metadata": {
        "id": "82B3DIon4JXG",
        "colab_type": "code",
        "colab": {}
      },
      "source": [
        "%matplotlib inline\n",
        "import matplotlib as mpl\n",
        "import matplotlib.pyplot as plt\n",
        "from mpl_toolkits import mplot3d\n",
        "mpl.rc('axes', labelsize=14)\n",
        "mpl.rc('xtick', labelsize=12)\n",
        "mpl.rc('ytick', labelsize=12)"
      ],
      "execution_count": 0,
      "outputs": []
    },
    {
      "cell_type": "code",
      "metadata": {
        "id": "qxcQ5YIMvXof",
        "colab_type": "code",
        "colab": {}
      },
      "source": [
        "import numpy as np\n",
        "np.random.seed(42)"
      ],
      "execution_count": 0,
      "outputs": []
    },
    {
      "cell_type": "markdown",
      "metadata": {
        "id": "Mq0qEyUH70bl",
        "colab_type": "text"
      },
      "source": [
        "## Random Data"
      ]
    },
    {
      "cell_type": "code",
      "metadata": {
        "id": "HCC96rKk722q",
        "colab_type": "code",
        "colab": {}
      },
      "source": [
        "xs1 = 2 * np.random.rand(100, 1)\n",
        "xs2 = 2 * np.random.rand(100, 1)\n",
        "ys = 4 + 3 * xs1 * xs2 + np.random.rand(100, 1)"
      ],
      "execution_count": 0,
      "outputs": []
    },
    {
      "cell_type": "markdown",
      "metadata": {
        "id": "IVj3ZJsW74ao",
        "colab_type": "text"
      },
      "source": [
        "## Display Random Data"
      ]
    },
    {
      "cell_type": "code",
      "metadata": {
        "id": "npR-Du9T77EK",
        "colab_type": "code",
        "outputId": "3ccfce88-349e-483f-ab58-2e947f312147",
        "colab": {
          "base_uri": "https://localhost:8080/",
          "height": 294
        }
      },
      "source": [
        "plt.plot(xs1, ys, \"b.\")\n",
        "plt.plot(xs2, ys, \"r.\")\n",
        "plt.xlabel(\"$x_1$\", fontsize=18)\n",
        "plt.ylabel(\"$y$\", rotation=0, fontsize=18)\n",
        "plt.axis([0, 2, 0, 15])\n",
        "plt.show()"
      ],
      "execution_count": 0,
      "outputs": [
        {
          "output_type": "display_data",
          "data": {
            "image/png": "[encoded data removed]",
            "text/plain": [
              "<Figure size 432x288 with 1 Axes>"
            ]
          },
          "metadata": {
            "tags": []
          }
        }
      ]
    },
    {
      "cell_type": "markdown",
      "metadata": {
        "id": "HiED6qW579Gi",
        "colab_type": "text"
      },
      "source": [
        "# Random Training and Test Data"
      ]
    },
    {
      "cell_type": "code",
      "metadata": {
        "id": "A1e9T0_D7_RH",
        "colab_type": "code",
        "colab": {}
      },
      "source": [
        "# split the data into training and test sets\n",
        "# train set\n",
        "train_xs1 = xs1[:80]\n",
        "train_xs2 = xs2[:80]\n",
        "train_ys = ys[:80]\n",
        "# test set\n",
        "test_xs1 = xs1[80:]\n",
        "test_xs2 = xs2[80:]\n",
        "test_ys = ys[80:]\n"
      ],
      "execution_count": 0,
      "outputs": []
    },
    {
      "cell_type": "markdown",
      "metadata": {
        "id": "kdUqbbBV8Atw",
        "colab_type": "text"
      },
      "source": [
        "## Epochs and Learning Rate"
      ]
    },
    {
      "cell_type": "code",
      "metadata": {
        "id": "HuBd1QO68Cs2",
        "colab_type": "code",
        "colab": {}
      },
      "source": [
        "# number of epochs\n",
        "epochs = 10\n",
        "# learning rate\n",
        "lr = 0.01"
      ],
      "execution_count": 0,
      "outputs": []
    },
    {
      "cell_type": "markdown",
      "metadata": {
        "id": "ZFBygS7t8Dtm",
        "colab_type": "text"
      },
      "source": [
        "## Weights"
      ]
    },
    {
      "cell_type": "code",
      "metadata": {
        "id": "TqJ0hP448Ee-",
        "colab_type": "code",
        "colab": {}
      },
      "source": [
        "# initial value for weights w1 and w2 and bias b\n",
        "w1 = np.random.randn(1)\n",
        "w2 = np.random.randn(1)\n",
        "b = np.zeros(1)"
      ],
      "execution_count": 0,
      "outputs": []
    },
    {
      "cell_type": "markdown",
      "metadata": {
        "id": "H4-ki74E8F2o",
        "colab_type": "text"
      },
      "source": [
        "## Training data"
      ]
    },
    {
      "cell_type": "code",
      "metadata": {
        "id": "kYIShLYk8HMm",
        "colab_type": "code",
        "colab": {}
      },
      "source": [
        "for epoch in np.arange(epochs):\n",
        "  for i in np.arange(80):\n",
        "    y_pred = w1 * train_xs1[i] + w2 * train_xs2[i] + b\n",
        "    \n",
        "    grad_w1 = (y_pred - train_ys[i]) * train_xs1[i]\n",
        "    grad_w2 = (y_pred - train_ys[i]) * train_xs2[i]\n",
        "    grad_b = (y_pred - train_ys[i])\n",
        "    \n",
        "    w1 -= lr * grad_w1\n",
        "    w2 -= lr * grad_w2\n",
        "    b -= lr * grad_b"
      ],
      "execution_count": 0,
      "outputs": []
    },
    {
      "cell_type": "markdown",
      "metadata": {
        "id": "UOz_FgY78KNk",
        "colab_type": "text"
      },
      "source": [
        "## Calculate Loss"
      ]
    },
    {
      "cell_type": "code",
      "metadata": {
        "id": "BUZioVRZ8Lpi",
        "colab_type": "code",
        "colab": {}
      },
      "source": [
        "test_loss = 0\n",
        "for i in np.arange(20):\n",
        "  test_loss += 0.5 * (w1 * test_xs1[i] + w2 * test_xs2[i] + b - test_ys[i]) ** 2\n",
        "test_loss /= 20"
      ],
      "execution_count": 0,
      "outputs": []
    },
    {
      "cell_type": "code",
      "metadata": {
        "id": "VsiOHdB58MrI",
        "colab_type": "code",
        "outputId": "ba9ae5fe-69a7-40e6-dc30-a1b1b5fdc949",
        "colab": {
          "base_uri": "https://localhost:8080/",
          "height": 34
        }
      },
      "source": [
        "test_loss"
      ],
      "execution_count": 0,
      "outputs": [
        {
          "output_type": "execute_result",
          "data": {
            "text/plain": [
              "array([0.62608073])"
            ]
          },
          "metadata": {
            "tags": []
          },
          "execution_count": 9
        }
      ]
    },
    {
      "cell_type": "code",
      "metadata": {
        "id": "1jp8n1dz8Ndp",
        "colab_type": "code",
        "colab": {}
      },
      "source": [
        "pred_ys = w1 * test_xs1 + w2 * test_xs2 + b"
      ],
      "execution_count": 0,
      "outputs": []
    },
    {
      "cell_type": "markdown",
      "metadata": {
        "id": "K-l-lZr28O6w",
        "colab_type": "text"
      },
      "source": [
        "## 3D Plot"
      ]
    },
    {
      "cell_type": "code",
      "metadata": {
        "id": "VUDNB_H68RLm",
        "colab_type": "code",
        "outputId": "884b7942-68e6-4148-c0ba-7bcdd6fbfd36",
        "colab": {
          "base_uri": "https://localhost:8080/",
          "height": 248
        }
      },
      "source": [
        "fig = plt.figure()\n",
        "ax = plt.axes(projection='3d')\n",
        "ax.scatter(test_xs1, test_xs2, pred_ys, c='b', marker = 'o') # predicted values\n",
        "ax.scatter(test_xs1, test_xs2, test_ys, c='r', marker = 'o') # final values\n",
        "ax.set_xlabel('x')\n",
        "ax.set_ylabel('y')\n",
        "ax.set_zlabel('z')\n",
        "\n",
        "plt.show()"
      ],
      "execution_count": 0,
      "outputs": [
        {
          "output_type": "display_data",
          "data": {
            "image/png": "[encoded data removed]",
            "text/plain": [
              "<Figure size 432x288 with 1 Axes>"
            ]
          },
          "metadata": {
            "tags": []
          }
        }
      ]
    }
  ]
}