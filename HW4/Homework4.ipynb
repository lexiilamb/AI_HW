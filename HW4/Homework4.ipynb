{
  "nbformat": 4,
  "nbformat_minor": 0,
  "metadata": {
    "colab": {
      "name": "Homework4.ipynb",
      "provenance": [],
      "collapsed_sections": []
    },
    "kernelspec": {
      "name": "python3",
      "display_name": "Python 3"
    },
    "accelerator": "GPU"
  },
  "cells": [
    {
      "cell_type": "markdown",
      "metadata": {
        "id": "N5zxTpcpoyRU",
        "colab_type": "text"
      },
      "source": [
        "# Homework 4"
      ]
    },
    {
      "cell_type": "code",
      "metadata": {
        "id": "1kJONZyk_35G",
        "colab_type": "code",
        "outputId": "8ea29076-a19c-4461-8008-8043bc8da9a8",
        "colab": {
          "base_uri": "https://localhost:8080/",
          "height": 97
        }
      },
      "source": [
        "# Imports\n",
        "import keras\n",
        "from keras import layers\n",
        "from keras import models\n",
        "from keras.layers.convolutional import Conv2D\n",
        "\n",
        "import tensorflow as tf\n",
        "from tensorflow import keras"
      ],
      "execution_count": 0,
      "outputs": [
        {
          "output_type": "stream",
          "text": [
            "Using TensorFlow backend.\n"
          ],
          "name": "stderr"
        },
        {
          "output_type": "display_data",
          "data": {
            "text/html": [
              "<p style=\"color: red;\">\n",
              "The default version of TensorFlow in Colab will soon switch to TensorFlow 2.x.<br>\n",
              "We recommend you <a href=\"https://www.tensorflow.org/guide/migrate\" target=\"_blank\">upgrade</a> now \n",
              "or ensure your notebook will continue to use TensorFlow 1.x via the <code>%tensorflow_version 1.x</code> magic:\n",
              "<a href=\"https://colab.research.google.com/notebooks/tensorflow_version.ipynb\" target=\"_blank\">more info</a>.</p>\n"
            ],
            "text/plain": [
              "<IPython.core.display.HTML object>"
            ]
          },
          "metadata": {
            "tags": []
          }
        }
      ]
    },
    {
      "cell_type": "markdown",
      "metadata": {
        "id": "G2i-Nckzo0ag",
        "colab_type": "text"
      },
      "source": [
        "## 1 General Concepts"
      ]
    },
    {
      "cell_type": "markdown",
      "metadata": {
        "id": "BbiOWXnmqWpR",
        "colab_type": "text"
      },
      "source": [
        "The course this semester focused on deep learning. Deep learning is a subset of machine learning, and machine learning is a subset of artifical intelligence."
      ]
    },
    {
      "cell_type": "markdown",
      "metadata": {
        "id": "7FnGATtTqXHv",
        "colab_type": "text"
      },
      "source": [
        "Artifical intelligence (AI) is the ability of computers or machines to possess cognitive abilites like humans. This branch of computer science attempts to provide machines capability to solve problems using decision-making, speech recognition, and language translation."
      ]
    },
    {
      "cell_type": "markdown",
      "metadata": {
        "id": "d40tPzlUqmlg",
        "colab_type": "text"
      },
      "source": [
        "Machine learning, a subset of AI, involves the ability of these computers and machines to learn and improve thier functionatlities through experiences instead of being explicitly programmed to perform actions."
      ]
    },
    {
      "cell_type": "markdown",
      "metadata": {
        "id": "PEC98nwirzFi",
        "colab_type": "text"
      },
      "source": [
        "This class looked at trying to develope rules by providing networks the output they should predict in addition to features used for training and validation. "
      ]
    },
    {
      "cell_type": "markdown",
      "metadata": {
        "id": "fEibKYGZqZKk",
        "colab_type": "text"
      },
      "source": [
        "Deep learning, a subset of machine learning, is how computers and machines solve complex problems using large amounts of data in artifical neural networks. Weights, updated using graident descent, and hidden layers are combined to create these deep learning networks."
      ]
    },
    {
      "cell_type": "markdown",
      "metadata": {
        "id": "QzXJRhuTo2lY",
        "colab_type": "text"
      },
      "source": [
        "## 2 Building A Model"
      ]
    },
    {
      "cell_type": "markdown",
      "metadata": {
        "id": "tQsXARQLxLr6",
        "colab_type": "text"
      },
      "source": [
        "A Convolutional Neural Network is usual composed of convolution and maxpooling layers to finally pass through a flattening operation. "
      ]
    },
    {
      "cell_type": "markdown",
      "metadata": {
        "id": "peY6W2LwyVoe",
        "colab_type": "text"
      },
      "source": [
        "The inital convolutional layers detect the most basic of features such as varyig degrees of lines and edges. The deeper the convolutional layer is in the network, the more the convolutional layer can detect abstract features."
      ]
    },
    {
      "cell_type": "markdown",
      "metadata": {
        "id": "ovSw6UIbzGyw",
        "colab_type": "text"
      },
      "source": [
        "For example, a newtork that detects faces would begin with convolutional layers would look for horizonal edges that could indicate human eyes or look for vertical edges that could indicate a human nose. The deeper layers in the network would be able to specifically pick out human facial features such as eyes, noses, lips, and ears. Eventually the network would detect human faces."
      ]
    },
    {
      "cell_type": "markdown",
      "metadata": {
        "id": "q12MYOHS0zow",
        "colab_type": "text"
      },
      "source": [
        "The poolying layers in a convolutional neural network reduce the dimensions of a convolutional layer by shrinking the height and width. Max pooling specifically analyzes smaller areas of an image and selects the maximum value of each area to represent the rest."
      ]
    },
    {
      "cell_type": "markdown",
      "metadata": {
        "id": "Ti9u_hGsvWLN",
        "colab_type": "text"
      },
      "source": [
        "Example model from Homework 2 question 3"
      ]
    },
    {
      "cell_type": "code",
      "metadata": {
        "id": "qyYqpWbLugMT",
        "colab_type": "code",
        "outputId": "62cddaac-d6b5-42f7-d693-d02d89ccd432",
        "colab": {
          "base_uri": "https://localhost:8080/",
          "height": 190
        }
      },
      "source": [
        "model = models.Sequential()\n",
        "\n",
        "model.add(layers.Conv2D(128, (3, 3), activation='relu', input_shape=(32, 32, 3)))\n",
        "model.add(layers.Conv2D(64, (3, 3), activation='relu'))\n",
        "model.add(layers.MaxPooling2D(2,2))\n",
        "model.add(layers.Flatten())\n",
        "\n",
        "model.add(layers.Dense(128, activation='relu'))\n",
        "model.add(layers.Dense(10, activation='softmax'))\n",
        "\n",
        "print('Model built')"
      ],
      "execution_count": 0,
      "outputs": [
        {
          "output_type": "stream",
          "text": [
            "WARNING:tensorflow:From /usr/local/lib/python3.6/dist-packages/keras/backend/tensorflow_backend.py:66: The name tf.get_default_graph is deprecated. Please use tf.compat.v1.get_default_graph instead.\n",
            "\n",
            "WARNING:tensorflow:From /usr/local/lib/python3.6/dist-packages/keras/backend/tensorflow_backend.py:541: The name tf.placeholder is deprecated. Please use tf.compat.v1.placeholder instead.\n",
            "\n",
            "WARNING:tensorflow:From /usr/local/lib/python3.6/dist-packages/keras/backend/tensorflow_backend.py:4432: The name tf.random_uniform is deprecated. Please use tf.random.uniform instead.\n",
            "\n",
            "WARNING:tensorflow:From /usr/local/lib/python3.6/dist-packages/keras/backend/tensorflow_backend.py:4267: The name tf.nn.max_pool is deprecated. Please use tf.nn.max_pool2d instead.\n",
            "\n",
            "Model built\n"
          ],
          "name": "stdout"
        }
      ]
    },
    {
      "cell_type": "markdown",
      "metadata": {
        "id": "Hf1_CAnBo4b6",
        "colab_type": "text"
      },
      "source": [
        "## 3 Compiling A Model"
      ]
    },
    {
      "cell_type": "markdown",
      "metadata": {
        "id": "OROj_QTaej2l",
        "colab_type": "text"
      },
      "source": [
        "Optimizers are used to determine how to train a neural network in Keras. Some optimizers are graident Stochastic Gradient Descent (SGD) and RMSProp. All optimizers strive to find the global minima where the cost fnction attains the least possilbe value. "
      ]
    },
    {
      "cell_type": "markdown",
      "metadata": {
        "id": "I4_TNHuEfrAm",
        "colab_type": "text"
      },
      "source": [
        "SGD is the most popular optimizer used due to its simple and effective method to finding optimum values. SGD randomly selects sampls for batches that are put through the neural network. To produce better results, the outputs from the network are compared to their intended outputs to produce gradients used to update weights."
      ]
    },
    {
      "cell_type": "markdown",
      "metadata": {
        "id": "S8QCoaHdgXAm",
        "colab_type": "text"
      },
      "source": [
        "The Root Mean Square Propogation (RMSProp) is also among the most popular optimizers used in deep learning. RMSProp solves the problem of vanishing or exploding gradients when inputs to each layer have varying scales and their updated gradients are dependent on them. To solve this, each layer retains its own mean graident throughout the network, and graident values are normalized by this mean to stabilize the network's training. "
      ]
    },
    {
      "cell_type": "markdown",
      "metadata": {
        "id": "wXiBo0KzhrcK",
        "colab_type": "text"
      },
      "source": [
        "Through gradient descent, a loss function is to be minimized during the network's training. Mean Squared Error (MSE) squares the differences between the predicted and expected values of a network, and it is most often used in applications involving linear regression. Cross-Entropy and logarithmic functions compare the probabilites to actual class output values. The yare most commonly used to analyze training data in classification problems."
      ]
    },
    {
      "cell_type": "markdown",
      "metadata": {
        "id": "6123heX6Bj6H",
        "colab_type": "text"
      },
      "source": [
        "Example of compiling from Homework 2 question 3"
      ]
    },
    {
      "cell_type": "code",
      "metadata": {
        "id": "ySrC3H-QBoVL",
        "colab_type": "code",
        "outputId": "984fe8ad-fe64-4261-f899-a54f41f65dba",
        "colab": {
          "base_uri": "https://localhost:8080/",
          "height": 173
        }
      },
      "source": [
        "from keras import optimizers\n",
        "\n",
        "# Compile\n",
        "model.compile(\n",
        "    loss='binary_crossentropy', \n",
        "    optimizer=optimizers.RMSprop(lr=1e-4),\n",
        "    metrics=['accuracy']\n",
        ")\n",
        "\n",
        "print('Model complied')"
      ],
      "execution_count": 0,
      "outputs": [
        {
          "output_type": "stream",
          "text": [
            "WARNING:tensorflow:From /usr/local/lib/python3.6/dist-packages/keras/optimizers.py:793: The name tf.train.Optimizer is deprecated. Please use tf.compat.v1.train.Optimizer instead.\n",
            "\n",
            "WARNING:tensorflow:From /usr/local/lib/python3.6/dist-packages/keras/backend/tensorflow_backend.py:3657: The name tf.log is deprecated. Please use tf.math.log instead.\n",
            "\n",
            "WARNING:tensorflow:From /usr/local/lib/python3.6/dist-packages/tensorflow_core/python/ops/nn_impl.py:183: where (from tensorflow.python.ops.array_ops) is deprecated and will be removed in a future version.\n",
            "Instructions for updating:\n",
            "Use tf.where in 2.0, which has the same broadcast rule as np.where\n",
            "Model complied\n"
          ],
          "name": "stdout"
        }
      ]
    },
    {
      "cell_type": "markdown",
      "metadata": {
        "id": "ccuGtGxOo_Ns",
        "colab_type": "text"
      },
      "source": [
        "## 4 Training A Model"
      ]
    },
    {
      "cell_type": "markdown",
      "metadata": {
        "id": "wKR6SJNXFeXT",
        "colab_type": "text"
      },
      "source": [
        "Training models can have 3 classifications: an underfitting model, an overfitting model, and a pretty good model."
      ]
    },
    {
      "cell_type": "markdown",
      "metadata": {
        "id": "-SBe8qdMFn3N",
        "colab_type": "text"
      },
      "source": [
        "Underfitting models are usually too simple in complexity or have not had enough training and produce results that are inaccurate. This is because there are no distinct patterns present in the data."
      ]
    },
    {
      "cell_type": "markdown",
      "metadata": {
        "id": "coTjSGZIGCty",
        "colab_type": "text"
      },
      "source": [
        "Overfitting models have too much complexity and discover an abundance of patterns in the data that are beyond the scope of the model's purpose. A common sign of an undefit model is very high training accuracy paired with low validaiton accuracy."
      ]
    },
    {
      "cell_type": "markdown",
      "metadata": {
        "id": "AuazMvzMGibZ",
        "colab_type": "text"
      },
      "source": [
        "A pretty good model is an inbetween that recognizes a decent amount of patterns related to the model's purose and has high accuracy without going beyond the scope of the task. Some models of this calliber are produced by creating an overfitting model and then adding dropouts in the model to loses some information and fix the overfitting aspect."
      ]
    },
    {
      "cell_type": "markdown",
      "metadata": {
        "id": "cS0Apl0qFSzD",
        "colab_type": "text"
      },
      "source": [
        "### Classifying MNIST fashion items with dense layers and analyzing model performance"
      ]
    },
    {
      "cell_type": "code",
      "metadata": {
        "id": "gZ_3G4_0AOM7",
        "colab_type": "code",
        "outputId": "195c8903-a7d4-4be0-bc70-8afe29e4585f",
        "colab": {
          "base_uri": "https://localhost:8080/",
          "height": 394
        }
      },
      "source": [
        "fashion_mnist = keras.datasets.fashion_mnist\n",
        "\n",
        "(train_images, train_labels), (test_images, test_labels) = fashion_mnist.load_data()\n",
        "\n",
        "class_names = ['T-shirt/top', 'Trouser', 'Pullover', 'Dress', 'Coat',\n",
        "               'Sandal', 'Shirt', 'Sneaker', 'Bag', 'Ankle boot']\n",
        "\n",
        "train_images = train_images / 255.0\n",
        "test_images = test_images / 255.0\n",
        "\n",
        "# set up the layers\n",
        "\n",
        "model = keras.Sequential([\n",
        "    keras.layers.Flatten(input_shape=(28, 28)),\n",
        "    keras.layers.Dense(128, activation=tf.nn.relu),\n",
        "    keras.layers.Dense(10, activation=tf.nn.softmax)\n",
        "])\n",
        "\n",
        "# compile the model\n",
        "\n",
        "model.compile(optimizer='adam',\n",
        "             loss='sparse_categorical_crossentropy',\n",
        "             metrics=['accuracy'])\n",
        "\n",
        "# train the model\n",
        "epochs = 10\n",
        "history = model.fit(train_images, \n",
        "                      train_labels, \n",
        "                      epochs=epochs,  \n",
        "                      validation_data=(test_images, test_labels))"
      ],
      "execution_count": 0,
      "outputs": [
        {
          "output_type": "stream",
          "text": [
            "Train on 60000 samples, validate on 10000 samples\n",
            "Epoch 1/10\n",
            "60000/60000 [==============================] - 7s 109us/sample - loss: 0.4989 - acc: 0.8245 - val_loss: 0.4291 - val_acc: 0.8436\n",
            "Epoch 2/10\n",
            "60000/60000 [==============================] - 6s 107us/sample - loss: 0.3764 - acc: 0.8644 - val_loss: 0.3867 - val_acc: 0.8661\n",
            "Epoch 3/10\n",
            "60000/60000 [==============================] - 6s 105us/sample - loss: 0.3364 - acc: 0.8774 - val_loss: 0.3873 - val_acc: 0.8598\n",
            "Epoch 4/10\n",
            "60000/60000 [==============================] - 6s 108us/sample - loss: 0.3144 - acc: 0.8857 - val_loss: 0.3461 - val_acc: 0.8757\n",
            "Epoch 5/10\n",
            "60000/60000 [==============================] - 7s 112us/sample - loss: 0.2952 - acc: 0.8907 - val_loss: 0.3664 - val_acc: 0.8703\n",
            "Epoch 6/10\n",
            "60000/60000 [==============================] - 7s 110us/sample - loss: 0.2810 - acc: 0.8966 - val_loss: 0.3795 - val_acc: 0.8620\n",
            "Epoch 7/10\n",
            "60000/60000 [==============================] - 7s 110us/sample - loss: 0.2687 - acc: 0.9002 - val_loss: 0.3337 - val_acc: 0.8804\n",
            "Epoch 8/10\n",
            "60000/60000 [==============================] - 7s 111us/sample - loss: 0.2569 - acc: 0.9045 - val_loss: 0.3471 - val_acc: 0.8798\n",
            "Epoch 9/10\n",
            "60000/60000 [==============================] - 7s 110us/sample - loss: 0.2478 - acc: 0.9078 - val_loss: 0.3344 - val_acc: 0.8823\n",
            "Epoch 10/10\n",
            "60000/60000 [==============================] - 7s 111us/sample - loss: 0.2391 - acc: 0.9101 - val_loss: 0.3495 - val_acc: 0.8801\n"
          ],
          "name": "stdout"
        }
      ]
    },
    {
      "cell_type": "code",
      "metadata": {
        "id": "Ys3MahiTA7ED",
        "colab_type": "code",
        "outputId": "5b560568-f9bf-4146-89c3-458ce3bb42a9",
        "colab": {
          "base_uri": "https://localhost:8080/",
          "height": 295
        }
      },
      "source": [
        "# Loss and Accuracy\n",
        "import matplotlib.pyplot as plt\n",
        "\n",
        "history_dict = history.history\n",
        "loss_values = history_dict['loss']\n",
        "test_loss_values = history_dict['val_loss']\n",
        "epochs_range = range(1, epochs+1)\n",
        "\n",
        "plt.plot(epochs_range, loss_values, 'bo', label='Training loss')\n",
        "plt.plot(epochs_range, test_loss_values, 'ro', label='Test loss')\n",
        "plt.title('Training and test loss')\n",
        "plt.xlabel('Epochs')\n",
        "plt.ylabel('Loss')\n",
        "plt.legend()\n",
        "plt.show()"
      ],
      "execution_count": 0,
      "outputs": [
        {
          "output_type": "display_data",
          "data": {
            "image/png": "[encoded data removed]",
            "text/plain": [
              "<Figure size 432x288 with 1 Axes>"
            ]
          },
          "metadata": {
            "tags": []
          }
        }
      ]
    },
    {
      "cell_type": "code",
      "metadata": {
        "id": "K-7P75NUBMYm",
        "colab_type": "code",
        "outputId": "df4e2ea7-ae50-42f2-8e5e-6c1be82eb2d3",
        "colab": {
          "base_uri": "https://localhost:8080/",
          "height": 295
        }
      },
      "source": [
        "acc_values = history_dict['acc']\n",
        "test_acc_values = history_dict['val_acc']\n",
        "\n",
        "plt.plot(epochs_range, acc_values, 'bo', label='Training accuracy')\n",
        "plt.plot(epochs_range, test_acc_values, 'ro', label='Test accuracy')\n",
        "plt.title('Training and test accuracy')\n",
        "plt.xlabel('Epochs')\n",
        "plt.ylabel('Accuracy')\n",
        "plt.legend()\n",
        "plt.show()"
      ],
      "execution_count": 0,
      "outputs": [
        {
          "output_type": "display_data",
          "data": {
            "image/png": "[encoded data removed]",
            "text/plain": [
              "<Figure size 432x288 with 1 Axes>"
            ]
          },
          "metadata": {
            "tags": []
          }
        }
      ]
    },
    {
      "cell_type": "markdown",
      "metadata": {
        "id": "0_0fxpDDpCG3",
        "colab_type": "text"
      },
      "source": [
        "## 5 Finetuning A Pretrained Model"
      ]
    },
    {
      "cell_type": "markdown",
      "metadata": {
        "id": "RGkBbyNtBkV1",
        "colab_type": "text"
      },
      "source": [
        "Performing training on models developed from scratch can demand extensive amounts of data and computing time based on the number of layers a model may have. Using a pretrained network, a network already trained on large datasets,  is often the optimal choice for smaller datasets."
      ]
    },
    {
      "cell_type": "markdown",
      "metadata": {
        "id": "fV88TCKoCTKo",
        "colab_type": "text"
      },
      "source": [
        "To apply these pretrained networks to solved problems they may not have been originally intended to solve, you can \"freeze\" layers in the convolutional base to be selective of the learned weights in the network. "
      ]
    },
    {
      "cell_type": "markdown",
      "metadata": {
        "id": "ITgi9GgGD7Mo",
        "colab_type": "text"
      },
      "source": [
        "After retaining the pretrained network with your modifications, you have the option to adjust if the produced results were not of the intended calliber. By unfreezing a small portion of the layers, more weigts will be modified to yield a different set of results. Unfreezing too many or all of the layers in a pretrained model could cost you too much computational time. This would be contradictory to the purpose of using a pretrained model in the first place."
      ]
    }
  ]
}